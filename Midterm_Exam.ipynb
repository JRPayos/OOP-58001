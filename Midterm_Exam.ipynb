{
  "nbformat": 4,
  "nbformat_minor": 0,
  "metadata": {
    "colab": {
      "name": "Midterm Exam.ipynb",
      "provenance": [],
      "collapsed_sections": [],
      "authorship_tag": "ABX9TyNHvMjb8QS+cyEfdQSIwKkP",
      "include_colab_link": true
    },
    "kernelspec": {
      "name": "python3",
      "display_name": "Python 3"
    },
    "language_info": {
      "name": "python"
    }
  },
  "cells": [
    {
      "cell_type": "markdown",
      "metadata": {
        "id": "view-in-github",
        "colab_type": "text"
      },
      "source": [
        "<a href=\"https://colab.research.google.com/github/JohnRey-P/OOP-58001/blob/main/Midterm_Exam.ipynb\" target=\"_parent\"><img src=\"https://colab.research.google.com/assets/colab-badge.svg\" alt=\"Open In Colab\"/></a>"
      ]
    },
    {
      "cell_type": "markdown",
      "source": [
        "#MIDTERM EXAM"
      ],
      "metadata": {
        "id": "fmXKaAoskIu4"
      }
    },
    {
      "cell_type": "markdown",
      "source": [
        "Program 1"
      ],
      "metadata": {
        "id": "YEkK_45akHEj"
      }
    },
    {
      "cell_type": "code",
      "source": [
        "def main():\n",
        "\n",
        "  \n",
        "\n",
        " class TemperatureConversion:\n",
        "  def __init__(self, temp=1):\n",
        "   self._temp = temp\n",
        "\n",
        " class CelsiusToFahrenheit(TemperatureConversion):\n",
        "  def conversion(self):\n",
        "   return (self._temp * 9) / 5 + 32\n",
        "\n",
        " class CelsiusToKelvin(TemperatureConversion):\n",
        "  def conversion(self):\n",
        "   return self._temp + 273.15\n",
        "\n",
        " class FahrenheitToCelcius(TemperatureConversion):\n",
        "   def conversion(self):\n",
        "    return (self._temp - 32) * 5 / 9\n",
        "\n",
        " class KelvinToCelcius(TemperatureConversion):\n",
        "   def conversion(self):\n",
        "    return self._temp - 273.15\n",
        "\n",
        " tempC = float(input(\"Enter the temperature in Celsius: \"))\n",
        " convCK = CelsiusToKelvin(tempC)\n",
        " print(str(convCK.conversion()) + \" Kelvin\")\n",
        "\n",
        " convCF = CelsiusToFahrenheit(tempC)\n",
        " print(str(convCF.conversion()) + \" Fahrenheit\")\n",
        "\n",
        " tempK = float(input(\"Enter the temperature in Kelvin: \"))\n",
        " convKC = KelvinToCelcius(tempK)\n",
        " print(str(convKC.conversion()) + \" Celcius \")\n",
        "\n",
        " tempF = float(input(\"Enter the temperature in Farenheit: \"))\n",
        " convFC = FahrenheitToCelcius(tempF)\n",
        " print(str(convFC.conversion()) + \" Celcius \")\n",
        "\n",
        "\n",
        "\n",
        "main()"
      ],
      "metadata": {
        "colab": {
          "base_uri": "https://localhost:8080/"
        },
        "id": "dH9LsRSHaIws",
        "outputId": "968e32ef-ba9f-44c6-cc51-f022274668d6"
      },
      "execution_count": 6,
      "outputs": [
        {
          "output_type": "stream",
          "name": "stdout",
          "text": [
            "Enter the temperature in Celsius: 79\n",
            "352.15 Kelvin\n",
            "174.2 Fahrenheit\n",
            "Enter the temperature in Kelvin: 352.15\n",
            "79.0 Celcius \n",
            "Enter the temperature in Farenheit: 174.2\n",
            "79.0 Celcius \n"
          ]
        }
      ]
    },
    {
      "cell_type": "markdown",
      "source": [
        "Program 2 from PyCharm"
      ],
      "metadata": {
        "id": "4uJUWijsqsZa"
      }
    },
    {
      "cell_type": "code",
      "source": [
        "from tkinter import *\n",
        "class Name:\n",
        "    def init(self, name):\n",
        "        self.lbl1=Label(name, text='Enter your full name', fg=\"red\")\n",
        "        self.lbl1.place(x=50, y=30)\n",
        "\n",
        "        self.t1 = Entry(bd=3)\n",
        "        self.t1.place(x=300, y=25)\n",
        "        self.t2 = Entry(bd=3)\n",
        "        self.t2.place(x=300, y=100)\n",
        "\n",
        "        self.btn1 = Button(name, text='Click to display your full name', fg = \"red\")\n",
        "        self.btn1 = Button(name, text='Click to display your full name', fg = \"red\", command=self.display)\n",
        "        self.btn1.place(x=50, y=100)\n",
        "\n",
        "    def display(self):\n",
        "        fname=str(self.t1.get())\n",
        "        result= fname \n",
        "        self.t2.insert(END, str(result))\n",
        "\n",
        "\n",
        "\n",
        "window=Tk()\n",
        "myname=Name(window)\n",
        "window.title('Program 2')\n",
        "window.geometry(\"550x300+10+10\")\n",
        "window.mainloop()"
      ],
      "metadata": {
        "id": "LWerw67zqvY7"
      },
      "execution_count": null,
      "outputs": []
    }
  ]
}