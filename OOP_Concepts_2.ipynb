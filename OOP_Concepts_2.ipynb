{
  "nbformat": 4,
  "nbformat_minor": 0,
  "metadata": {
    "colab": {
      "name": "OOP Concepts_2.ipynb",
      "provenance": [],
      "collapsed_sections": [],
      "toc_visible": true,
      "authorship_tag": "ABX9TyOu3JxRN38976FVg+JTQNIw",
      "include_colab_link": true
    },
    "kernelspec": {
      "name": "python3",
      "display_name": "Python 3"
    },
    "language_info": {
      "name": "python"
    }
  },
  "cells": [
    {
      "cell_type": "markdown",
      "metadata": {
        "id": "view-in-github",
        "colab_type": "text"
      },
      "source": [
        "<a href=\"https://colab.research.google.com/github/JohnRey-P/OOP-58001/blob/main/OOP_Concepts_2.ipynb\" target=\"_parent\"><img src=\"https://colab.research.google.com/assets/colab-badge.svg\" alt=\"Open In Colab\"/></a>"
      ]
    },
    {
      "cell_type": "markdown",
      "source": [
        "#**OOP CONCEPTS 2**"
      ],
      "metadata": {
        "id": "qLoRIjMLC4Ww"
      }
    },
    {
      "cell_type": "markdown",
      "source": [
        "Encapsulation\n",
        "---\n",
        "\n",
        "\n"
      ],
      "metadata": {
        "id": "vxsNbzJSz_4M"
      }
    },
    {
      "cell_type": "markdown",
      "source": [
        "With Private Attributes"
      ],
      "metadata": {
        "id": "L6UW8jrSvFyD"
      }
    },
    {
      "cell_type": "code",
      "source": [
        "class Birds:\n",
        "  def __init__(self,bird_name):\n",
        "    self.bird_name = bird_name\n",
        "\n",
        "  def flying_birds(self):\n",
        "    print(f\"{self.bird_name} flies above clouds\")\n",
        "    \n",
        "  def non_flying_birds(self):\n",
        "    print(f\"{self.bird_name} is the national bird of the Philippines\")\n",
        "  \n",
        "vulture = Birds(\"Griffon Vulture\")\n",
        "crane = Birds(\"Common Crane\")\n",
        "emu = Birds (\"Emu\")\n",
        "\n",
        "vulture.flying_birds()\n",
        "crane.flying_birds()\n",
        "emu.non_flying_birds()"
      ],
      "metadata": {
        "colab": {
          "base_uri": "https://localhost:8080/"
        },
        "id": "YGgiKLlguDdc",
        "outputId": "9a360846-b8ad-4330-d927-1eb588128d0f"
      },
      "execution_count": 6,
      "outputs": [
        {
          "output_type": "stream",
          "name": "stdout",
          "text": [
            "Griffon Vulture flies above clouds\n",
            "Common Crane flies above clouds\n",
            "Emu is the national bird of the Philippines\n"
          ]
        }
      ]
    },
    {
      "cell_type": "markdown",
      "source": [
        "by mangling with double underscores"
      ],
      "metadata": {
        "id": "EXVhGntpvIq7"
      }
    },
    {
      "cell_type": "code",
      "execution_count": 5,
      "metadata": {
        "colab": {
          "base_uri": "https://localhost:8080/"
        },
        "id": "S6SGuWrPz81G",
        "outputId": "2f5f04fe-50f4-40bc-97b6-da505abb4278"
      },
      "outputs": [
        {
          "output_type": "execute_result",
          "data": {
            "text/plain": [
              "10"
            ]
          },
          "metadata": {},
          "execution_count": 5
        }
      ],
      "source": [
        "class foo:\n",
        "  def __init__(self,a,b):\n",
        "    self.a = a\n",
        "    self.b = b\n",
        "\n",
        "  def add(self):\n",
        "    return self.a + self.b\n",
        "foo_object = foo(3,4)\n",
        "foo_object.add()\n",
        "\n",
        "foo_object.a=6\n",
        "foo_object.add()"
      ]
    },
    {
      "cell_type": "code",
      "execution_count": 4,
      "metadata": {
        "colab": {
          "base_uri": "https://localhost:8080/"
        },
        "outputId": "5d974a4f-f462-4f3e-8c12-47c7234e682a",
        "id": "tHFpGEUP2SB8"
      },
      "outputs": [
        {
          "output_type": "execute_result",
          "data": {
            "text/plain": [
              "7"
            ]
          },
          "metadata": {},
          "execution_count": 4
        }
      ],
      "source": [
        "class foo:\n",
        "  def __init__(self,a,b):\n",
        "    self._a = a\n",
        "    self._b = b\n",
        "\n",
        "  def add(self):\n",
        "    return self._a + self._b\n",
        "foo_object = foo(3,4)\n",
        "\n",
        "foo_object.a=6\n",
        "foo_object.add()"
      ]
    },
    {
      "cell_type": "code",
      "source": [
        "class Counter:\n",
        "    def __init__(self):\n",
        "        self.current = 0\n",
        "\n",
        "    def increment(self):\n",
        "        self.current += 1\n",
        "\n",
        "    def value(self):\n",
        "        return self.current\n",
        "\n",
        "    def reset(self):\n",
        "        self.current = 0\n",
        "counter = Counter()\n",
        "\n",
        "\n",
        "#counter.increment()\n",
        "#counter.increment()\n",
        "#counter.increment()\n",
        "\n",
        "print(counter._current)\n",
        "\n",
        "#print(counter.value())\n"
      ],
      "metadata": {
        "colab": {
          "base_uri": "https://localhost:8080/",
          "height": 235
        },
        "id": "xgrrOCo_4Joi",
        "outputId": "2b5ee8f1-0065-459e-ad13-0113deb57533"
      },
      "execution_count": null,
      "outputs": [
        {
          "output_type": "error",
          "ename": "AttributeError",
          "evalue": "ignored",
          "traceback": [
            "\u001b[0;31m---------------------------------------------------------------------------\u001b[0m",
            "\u001b[0;31mAttributeError\u001b[0m                            Traceback (most recent call last)",
            "\u001b[0;32m<ipython-input-2-3e1397d2da64>\u001b[0m in \u001b[0;36m<module>\u001b[0;34m()\u001b[0m\n\u001b[1;32m     18\u001b[0m \u001b[0;31m#counter.increment()\u001b[0m\u001b[0;34m\u001b[0m\u001b[0;34m\u001b[0m\u001b[0;34m\u001b[0m\u001b[0m\n\u001b[1;32m     19\u001b[0m \u001b[0;34m\u001b[0m\u001b[0m\n\u001b[0;32m---> 20\u001b[0;31m \u001b[0mprint\u001b[0m\u001b[0;34m(\u001b[0m\u001b[0mcounter\u001b[0m\u001b[0;34m.\u001b[0m\u001b[0m_current\u001b[0m\u001b[0;34m)\u001b[0m\u001b[0;34m\u001b[0m\u001b[0;34m\u001b[0m\u001b[0m\n\u001b[0m\u001b[1;32m     21\u001b[0m \u001b[0;34m\u001b[0m\u001b[0m\n\u001b[1;32m     22\u001b[0m \u001b[0;31m#print(counter.value())\u001b[0m\u001b[0;34m\u001b[0m\u001b[0;34m\u001b[0m\u001b[0;34m\u001b[0m\u001b[0m\n",
            "\u001b[0;31mAttributeError\u001b[0m: 'Counter' object has no attribute '_current'"
          ]
        }
      ]
    },
    {
      "cell_type": "markdown",
      "source": [
        "Inheritance\n",
        "---\n"
      ],
      "metadata": {
        "id": "Oj59oBLC7cwp"
      }
    },
    {
      "cell_type": "code",
      "source": [
        "class Person:       #parent class\n",
        "  def __init__(self,fname,sname):\n",
        "    self.fname = fname\n",
        "    self.sname = sname\n",
        "\n",
        "  def printname(self):\n",
        "    print(self.fname,self.sname)\n",
        "\n",
        "x = Person(\"John Rey\",\"Payos\")\n",
        "x.printname()\n",
        "\n",
        "\n",
        "class Teacher(Person):\n",
        "  pass\n",
        "\n",
        "y = Teacher(\"Maria\",\"Sayo\")\n",
        "y.printname()"
      ],
      "metadata": {
        "colab": {
          "base_uri": "https://localhost:8080/"
        },
        "id": "dr6O4mLU7ePL",
        "outputId": "4bb5f8e3-61f7-41a6-9e82-aa152afc584a"
      },
      "execution_count": 3,
      "outputs": [
        {
          "output_type": "stream",
          "name": "stdout",
          "text": [
            "John Rey Payos\n",
            "Maria Sayo\n"
          ]
        }
      ]
    },
    {
      "cell_type": "markdown",
      "source": [
        "Polymorphism\n",
        "---"
      ],
      "metadata": {
        "id": "KNJmA1CH-0mA"
      }
    },
    {
      "cell_type": "code",
      "source": [
        "class RegularPolygon:\n",
        "  def __init__(self,side):\n",
        "    self._side = side\n",
        "\n",
        "class Square(RegularPolygon):\n",
        "  def area (self):\n",
        "    return self._side * self._side\n",
        "\n",
        "class EquilateralTriangle(RegularPolygon):\n",
        "  def area(self):\n",
        "    return self._side * self._side * 0.433\n",
        "    \n",
        "obj1 = Square(4)\n",
        "obj2 = EquilateralTriangle(3)\n",
        "\n",
        "print(obj1.area())\n",
        "print(obj2.area())"
      ],
      "metadata": {
        "colab": {
          "base_uri": "https://localhost:8080/"
        },
        "id": "p5IpPwet-2_X",
        "outputId": "b4da9529-f2bd-491f-9017-f690274a6028"
      },
      "execution_count": 2,
      "outputs": [
        {
          "output_type": "stream",
          "name": "stdout",
          "text": [
            "16\n",
            "3.897\n"
          ]
        }
      ]
    },
    {
      "cell_type": "markdown",
      "source": [
        "Application 1\n",
        "---\n",
        "\n",
        "30% Prelim + 30% Midterm + 40% Final = Sem Grade\n",
        "\n",
        "\n",
        "\n",
        "1.   Create a Python program that displays the name of three students (Student 1, Student 2, Student 3) and their grades.\n",
        "2.   Create a class name Person and attributes - std1, std2, std3, pre, mid, fin.\n",
        "3. Compute the average of each term grade using Grade() method.\n",
        "4. Information about student's grades must be hidden from others.\n",
        "\n",
        "\n"
      ],
      "metadata": {
        "id": "b1zBKfc1FtAy"
      }
    },
    {
      "cell_type": "code",
      "source": [
        "#Application 1\n",
        "class Person:\n",
        "  def __init__(self,std1,std2,std3,pre,mid,fin):\n",
        "    self._std1 = std1   #Person attributes\n",
        "    self._std2 = std2\n",
        "    self._std3 = std3\n",
        "    self._pre = pre\n",
        "    self._mid = mid\n",
        "    self._fin = fin\n",
        "\n",
        "  def Grade(self):  #Grade method\n",
        "    print(\"_______________________________\")\n",
        "    print(\"Student Name =\", self._std1, self._std2, self._std3)\n",
        "    print(\"_______________________________\")\n",
        "    print(\"Prelim Grade =\", int(self._pre))\n",
        "    print(\"Midterm Grade =\", int(self._mid)) \n",
        "    print(\"Final Grade =\", int(self._fin))  \n",
        "    print(\"_______________________________\")\n",
        "    print(\"Semestral Grade =\", int(self._pre*.30) + int(self._mid*.30) + int(self._fin*.40))  \n",
        "   \n",
        "#student objects\n",
        "student1 = Person(\"James Gordon\",\"\",\"\", 89, 90, 87)\n",
        "student2 = Person(\"\",\"Bruce Wayne\",\"\", 96, 94, 90)\n",
        "student3 = Person(\"\",\"\",\"Edward Nygma\", 85, 84, 84)\n",
        "\n",
        "#User profile prompt, user enter his/her last name and access their own grades hiding from other users\n",
        "print(\"====ADAMSON E-LEARNING====\")\n",
        "name = input(str(\"\\nEnter your Last name: \"))\n",
        "\n",
        "#conditionals\n",
        "\n",
        "if name == \"Gordon\" or name == \"gordon\":\n",
        "  student1.Grade()\n",
        "elif name == \"Wayne\" or name == \"wayne\":\n",
        "  student2.Grade()\n",
        "elif name == \"Nygma\" or name == \"nygma\":\n",
        "  student3.Grade()\n",
        "else:\n",
        "  print(\"\\n!!No Database for this Student!!\")"
      ],
      "metadata": {
        "colab": {
          "base_uri": "https://localhost:8080/"
        },
        "outputId": "ee69d12e-6303-47fe-e306-3c45b24b6e32",
        "id": "SmuocgvXOxdt"
      },
      "execution_count": 1,
      "outputs": [
        {
          "output_type": "stream",
          "name": "stdout",
          "text": [
            "====ADAMSON E-LEARNING====\n",
            "\n",
            "Enter your Last name: wayne\n",
            "_______________________________\n",
            "Student Name =  Bruce Wayne \n",
            "_______________________________\n",
            "Prelim Grade = 96\n",
            "Midterm Grade = 94\n",
            "Final Grade = 90\n",
            "_______________________________\n",
            "Semestral Grade = 92\n"
          ]
        }
      ]
    },
    {
      "cell_type": "markdown",
      "source": [
        "\n",
        "Exercises\n",
        "---\n",
        "\n",
        "Continuation, 03/22/22"
      ],
      "metadata": {
        "id": "JaRmD6PaK9IH"
      }
    },
    {
      "cell_type": "markdown",
      "source": [
        "Exercise 1"
      ],
      "metadata": {
        "id": "RCVmxAv7NjnI"
      }
    },
    {
      "cell_type": "code",
      "source": [
        "class RegularPolygon:\n",
        "    def __init__(self,side):\n",
        "        self._side = side   \n",
        "        \n",
        "class Square(RegularPolygon):\n",
        "    def area(self):\n",
        "        return self._side*self._side\n",
        "        \n",
        "class EquilateralTriangle(RegularPolygon):\n",
        "    def area(self):\n",
        "        return self._side*self._side*0.433\n",
        "    \n",
        "sq = Square(4)\n",
        "et = EquilateralTriangle(1)\n",
        "\n",
        "print(et.area()*sq.area())"
      ],
      "metadata": {
        "colab": {
          "base_uri": "https://localhost:8080/"
        },
        "outputId": "f23f049c-dfd1-44dd-88d9-daf3ce56d710",
        "id": "gphvK2LQNi7V"
      },
      "execution_count": null,
      "outputs": [
        {
          "output_type": "stream",
          "name": "stdout",
          "text": [
            "6.928\n"
          ]
        }
      ]
    },
    {
      "cell_type": "markdown",
      "source": [
        "Exercise 2"
      ],
      "metadata": {
        "id": "AVUHf8ICNlj1"
      }
    },
    {
      "cell_type": "code",
      "source": [
        "class Shape:\n",
        "    def __init__(self,length,height):\n",
        "      self._length = length   \n",
        "      self._height = height\n",
        "\n",
        "class Rectangle(Shape):\n",
        "    def area(self):\n",
        "        return self._length*self._height\n",
        "        \n",
        "class Triangle(Shape):\n",
        "    def area(self):\n",
        "        return (self._length*self._height)/2\n",
        "    calculateArea = Rectangle(5,10)\n",
        "    print(\"Area of the Rectangle is:\", str(calculateArea.area()))    \n",
        "    \n",
        "calculateArea = Triangle(5,10)\n",
        "print(\"Area of the Triangle is:\", str(round(calculateArea.area())))"
      ],
      "metadata": {
        "colab": {
          "base_uri": "https://localhost:8080/"
        },
        "id": "cQ9AE0iDLEOO",
        "outputId": "68b3df99-771a-4d6d-bb38-99d48d03fcec"
      },
      "execution_count": 9,
      "outputs": [
        {
          "output_type": "stream",
          "name": "stdout",
          "text": [
            "Area of the Rectangle is: 50\n",
            "Area of the Triangle is: 25\n"
          ]
        }
      ]
    }
  ]
}