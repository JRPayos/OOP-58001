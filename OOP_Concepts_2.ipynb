{
  "nbformat": 4,
  "nbformat_minor": 0,
  "metadata": {
    "colab": {
      "name": "OOP Concepts_2.ipynb",
      "provenance": [],
      "collapsed_sections": [],
      "toc_visible": true,
      "authorship_tag": "ABX9TyMBbt809u1qYvAsbae7y6zF",
      "include_colab_link": true
    },
    "kernelspec": {
      "name": "python3",
      "display_name": "Python 3"
    },
    "language_info": {
      "name": "python"
    }
  },
  "cells": [
    {
      "cell_type": "markdown",
      "metadata": {
        "id": "view-in-github",
        "colab_type": "text"
      },
      "source": [
        "<a href=\"https://colab.research.google.com/github/JohnRey-P/OOP-58001/blob/main/OOP_Concepts_2.ipynb\" target=\"_parent\"><img src=\"https://colab.research.google.com/assets/colab-badge.svg\" alt=\"Open In Colab\"/></a>"
      ]
    },
    {
      "cell_type": "markdown",
      "source": [
        "#**OOP CONCEPTS 2**"
      ],
      "metadata": {
        "id": "qLoRIjMLC4Ww"
      }
    },
    {
      "cell_type": "markdown",
      "source": [
        "#**Classes with Multiple Objects**"
      ],
      "metadata": {
        "id": "T_2nw9w8f_7m"
      }
    },
    {
      "cell_type": "code",
      "source": [
        "class Birds:\n",
        "  def __init__(self,bird_name):\n",
        "    self.bird_name = bird_name\n",
        "\n",
        "  def flying_birds(self):\n",
        "    print(f\"{self.bird_name} flies above clouds\")\n",
        "    \n",
        "  def non_flying_birds(self):\n",
        "    print(f\"{self.bird_name} is the national bird of the Philippines\")\n",
        "  \n",
        "hornbill = Birds(\"Palawan hornbill\")\n",
        "falconet = Birds(\"Philippine falconet\")\n",
        "eagle = Birds (\"Philippine monkey-eating eagle\")\n",
        "\n",
        "hornbill.flying_birds()\n",
        "falconet.flying_birds()\n",
        "eagle.non_flying_birds()"
      ],
      "metadata": {
        "colab": {
          "base_uri": "https://localhost:8080/"
        },
        "id": "YGgiKLlguDdc",
        "outputId": "096e3d1d-5a82-422b-efa6-f99043679467"
      },
      "execution_count": 23,
      "outputs": [
        {
          "output_type": "stream",
          "name": "stdout",
          "text": [
            "Palawan hornbill flies above clouds\n",
            "Philippine falconet flies above clouds\n",
            "Philippine monkey-eating eagle is the national bird of the Philippines\n"
          ]
        }
      ]
    },
    {
      "cell_type": "markdown",
      "source": [
        "Encapsulation\n",
        "---\n",
        "\n",
        "\n"
      ],
      "metadata": {
        "id": "vxsNbzJSz_4M"
      }
    },
    {
      "cell_type": "markdown",
      "source": [
        "With Private Attributes"
      ],
      "metadata": {
        "id": "L6UW8jrSvFyD"
      }
    },
    {
      "cell_type": "code",
      "execution_count": 24,
      "metadata": {
        "colab": {
          "base_uri": "https://localhost:8080/"
        },
        "id": "S6SGuWrPz81G",
        "outputId": "d6ac60cb-b3e2-4fab-c319-01db58e2eee6"
      },
      "outputs": [
        {
          "output_type": "execute_result",
          "data": {
            "text/plain": [
              "10"
            ]
          },
          "metadata": {},
          "execution_count": 24
        }
      ],
      "source": [
        "class foo:\n",
        "  def __init__(self,a,b):\n",
        "    self.a = a\n",
        "    self.b = b\n",
        "\n",
        "  def add(self):\n",
        "    return self.a + self.b\n",
        "foo_object = foo(3,4)\n",
        "foo_object.add()\n",
        "\n",
        "foo_object.a=6\n",
        "foo_object.add()"
      ]
    },
    {
      "cell_type": "code",
      "execution_count": 25,
      "metadata": {
        "colab": {
          "base_uri": "https://localhost:8080/"
        },
        "outputId": "4840941e-52e8-4c0e-f17f-ad141dcbdfc9",
        "id": "tHFpGEUP2SB8"
      },
      "outputs": [
        {
          "output_type": "execute_result",
          "data": {
            "text/plain": [
              "7"
            ]
          },
          "metadata": {},
          "execution_count": 25
        }
      ],
      "source": [
        "class foo:\n",
        "  def __init__(self,a,b):\n",
        "    self._a = a\n",
        "    self._b = b\n",
        "\n",
        "  def add(self):\n",
        "    return self._a + self._b\n",
        "foo_object = foo(3,4)\n",
        "\n",
        "#the a value was not affected nor changed\n",
        "foo_object.a=6\n",
        "foo_object.add()"
      ]
    },
    {
      "cell_type": "markdown",
      "source": [
        "by mangling with double underscores"
      ],
      "metadata": {
        "id": "EXVhGntpvIq7"
      }
    },
    {
      "cell_type": "code",
      "source": [
        "class Counter:\n",
        "    def __init__(self):\n",
        "        self.current = 0\n",
        "\n",
        "    def increment(self):\n",
        "        self.current += 1\n",
        "\n",
        "    def value(self):\n",
        "        return self.current\n",
        "\n",
        "    def reset(self):\n",
        "        self.current = 0\n",
        "counter = Counter()\n",
        "\n",
        "\n",
        "counter.increment()\n",
        "counter.increment()\n",
        "counter.increment()\n",
        "\n",
        "print(counter.value())\n"
      ],
      "metadata": {
        "colab": {
          "base_uri": "https://localhost:8080/"
        },
        "id": "xgrrOCo_4Joi",
        "outputId": "19321e7d-9530-4492-dcf4-51dcd33cb2ef"
      },
      "execution_count": 26,
      "outputs": [
        {
          "output_type": "stream",
          "name": "stdout",
          "text": [
            "3\n"
          ]
        }
      ]
    },
    {
      "cell_type": "code",
      "source": [
        "class Counter:\n",
        "    def __init__(self):\n",
        "        self.__current = 0\n",
        "\n",
        "    def increment(self):\n",
        "        self.__current += 1\n",
        "\n",
        "    def value(self):\n",
        "        return self.__current\n",
        "\n",
        "    def reset(self):\n",
        "        self.__current = 0\n",
        "counter = Counter()\n",
        "\n",
        "\n",
        "#counter.increment()\n",
        "#counter.increment()\n",
        "#counter.increment()\n",
        "\n",
        "print(counter.__current)\n",
        "\n",
        "#print(counter.value())\n"
      ],
      "metadata": {
        "colab": {
          "base_uri": "https://localhost:8080/",
          "height": 245
        },
        "outputId": "972edf56-af26-409d-db54-202691b260d3",
        "id": "rpbWpmAPhC5p"
      },
      "execution_count": 27,
      "outputs": [
        {
          "output_type": "error",
          "ename": "AttributeError",
          "evalue": "ignored",
          "traceback": [
            "\u001b[0;31m---------------------------------------------------------------------------\u001b[0m",
            "\u001b[0;31mAttributeError\u001b[0m                            Traceback (most recent call last)",
            "\u001b[0;32m<ipython-input-27-103b7859ab27>\u001b[0m in \u001b[0;36m<module>\u001b[0;34m()\u001b[0m\n\u001b[1;32m     18\u001b[0m \u001b[0;31m#counter.increment()\u001b[0m\u001b[0;34m\u001b[0m\u001b[0;34m\u001b[0m\u001b[0;34m\u001b[0m\u001b[0m\n\u001b[1;32m     19\u001b[0m \u001b[0;34m\u001b[0m\u001b[0m\n\u001b[0;32m---> 20\u001b[0;31m \u001b[0mprint\u001b[0m\u001b[0;34m(\u001b[0m\u001b[0mcounter\u001b[0m\u001b[0;34m.\u001b[0m\u001b[0m__current\u001b[0m\u001b[0;34m)\u001b[0m\u001b[0;34m\u001b[0m\u001b[0;34m\u001b[0m\u001b[0m\n\u001b[0m\u001b[1;32m     21\u001b[0m \u001b[0;34m\u001b[0m\u001b[0m\n\u001b[1;32m     22\u001b[0m \u001b[0;31m#print(counter.value())\u001b[0m\u001b[0;34m\u001b[0m\u001b[0;34m\u001b[0m\u001b[0;34m\u001b[0m\u001b[0m\n",
            "\u001b[0;31mAttributeError\u001b[0m: 'Counter' object has no attribute '__current'"
          ]
        }
      ]
    },
    {
      "cell_type": "markdown",
      "source": [
        "Inheritance\n",
        "---\n"
      ],
      "metadata": {
        "id": "Oj59oBLC7cwp"
      }
    },
    {
      "cell_type": "code",
      "source": [
        "class Person:       #parent class\n",
        "  def __init__(self,fname,sname):\n",
        "    self.fname = fname\n",
        "    self.sname = sname\n",
        "\n",
        "  def printname(self):\n",
        "    print(self.fname,self.sname)\n",
        "\n",
        "x = Person(\"John Rey\",\"Payos\")\n",
        "x.printname()\n",
        "\n",
        "\n",
        "class Teacher(Person):\n",
        "  pass\n",
        "\n",
        "y = Teacher(\"Maria\",\"Sayo\")\n",
        "y.printname()"
      ],
      "metadata": {
        "colab": {
          "base_uri": "https://localhost:8080/"
        },
        "id": "dr6O4mLU7ePL",
        "outputId": "0eb79771-d067-4bb5-bb9e-23bffc1656c2"
      },
      "execution_count": 28,
      "outputs": [
        {
          "output_type": "stream",
          "name": "stdout",
          "text": [
            "John Rey Payos\n",
            "Maria Sayo\n"
          ]
        }
      ]
    },
    {
      "cell_type": "markdown",
      "source": [
        "Polymorphism\n",
        "---"
      ],
      "metadata": {
        "id": "KNJmA1CH-0mA"
      }
    },
    {
      "cell_type": "code",
      "source": [
        "class RegularPolygon:\n",
        "  def __init__(self,side):\n",
        "    self._side = side\n",
        "\n",
        "class Square(RegularPolygon):\n",
        "  def area (self):\n",
        "    return self._side * self._side\n",
        "\n",
        "class EquilateralTriangle(RegularPolygon):\n",
        "  def area(self):\n",
        "    return self._side * self._side * 0.433\n",
        "    \n",
        "obj1 = Square(4)\n",
        "obj2 = EquilateralTriangle(3)\n",
        "\n",
        "print(obj1.area())\n",
        "print(obj2.area())"
      ],
      "metadata": {
        "colab": {
          "base_uri": "https://localhost:8080/"
        },
        "id": "p5IpPwet-2_X",
        "outputId": "d0389100-81e9-471a-a5c3-3088423d7526"
      },
      "execution_count": 29,
      "outputs": [
        {
          "output_type": "stream",
          "name": "stdout",
          "text": [
            "16\n",
            "3.897\n"
          ]
        }
      ]
    },
    {
      "cell_type": "markdown",
      "source": [
        "Application 1\n",
        "---\n",
        "\n",
        "30% Prelim + 30% Midterm + 40% Final = Sem Grade\n",
        "\n",
        "\n",
        "\n",
        "1.   Create a Python program that displays the name of three students (Student 1, Student 2, Student 3) and their grades.\n",
        "2.   Create a class name Person and attributes - std1, std2, std3, pre, mid, fin.\n",
        "3. Compute the average of each term grade using Grade() method.\n",
        "4. Information about student's grades must be hidden from others.\n",
        "\n",
        "\n"
      ],
      "metadata": {
        "id": "b1zBKfc1FtAy"
      }
    },
    {
      "cell_type": "code",
      "source": [
        "#Application 1\n",
        "class Person:\n",
        "  def __init__(self,std1,std2,std3,pre,mid,fin):\n",
        "    self._std1 = std1   #Person attributes\n",
        "    self._std2 = std2\n",
        "    self._std3 = std3\n",
        "    self._pre = pre\n",
        "    self._mid = mid\n",
        "    self._fin = fin\n",
        "\n",
        "  def Grade(self):  #Grade method\n",
        "    print(\"_______________________________\")\n",
        "    print(\"Student Name =\", self._std1, self._std2, self._std3)\n",
        "    print(\"_______________________________\")\n",
        "    print(\"Prelim Grade =\", int(self._pre))\n",
        "    print(\"Midterm Grade =\", int(self._mid)) \n",
        "    print(\"Final Grade =\", int(self._fin))  \n",
        "    print(\"_______________________________\")\n",
        "    print(\"Semestral Grade =\", int(self._pre*.30) + int(self._mid*.30) + int(self._fin*.40))  \n",
        "   \n",
        "#student objects\n",
        "student1 = Person(\"James Gordon\",\"\",\"\", 89, 90, 87)\n",
        "student2 = Person(\"\",\"Bruce Wayne\",\"\", 96, 94, 90)\n",
        "student3 = Person(\"\",\"\",\"Edward Nygma\", 85, 84, 84)\n",
        "\n",
        "#User profile prompt, user enter his/her last name and access their own grades hiding from other users\n",
        "print(\"====ADAMSON E-LEARNING====\")\n",
        "name = input(str(\"\\nEnter your Last name: \"))\n",
        "\n",
        "#conditionals\n",
        "\n",
        "if name == \"Gordon\" or name == \"gordon\":\n",
        "  student1.Grade()\n",
        "elif name == \"Wayne\" or name == \"wayne\":\n",
        "  student2.Grade()\n",
        "elif name == \"Nygma\" or name == \"nygma\":\n",
        "  student3.Grade()\n",
        "else:\n",
        "  print(\"\\n!!No Database for this Student!!\")"
      ],
      "metadata": {
        "colab": {
          "base_uri": "https://localhost:8080/"
        },
        "outputId": "fa6db489-b95a-4682-ad9e-b1eab361ae73",
        "id": "SmuocgvXOxdt"
      },
      "execution_count": 30,
      "outputs": [
        {
          "output_type": "stream",
          "name": "stdout",
          "text": [
            "====ADAMSON E-LEARNING====\n",
            "\n",
            "Enter your Last name: wayne\n",
            "_______________________________\n",
            "Student Name =  Bruce Wayne \n",
            "_______________________________\n",
            "Prelim Grade = 96\n",
            "Midterm Grade = 94\n",
            "Final Grade = 90\n",
            "_______________________________\n",
            "Semestral Grade = 92\n"
          ]
        }
      ]
    },
    {
      "cell_type": "markdown",
      "source": [
        "\n",
        "Exercises\n",
        "---\n",
        "\n",
        "Continuation, 03/22/22"
      ],
      "metadata": {
        "id": "JaRmD6PaK9IH"
      }
    },
    {
      "cell_type": "markdown",
      "source": [
        "Exercise 1"
      ],
      "metadata": {
        "id": "RCVmxAv7NjnI"
      }
    },
    {
      "cell_type": "code",
      "source": [
        "class RegularPolygon:\n",
        "    def __init__(self,side):\n",
        "        self._side = side   \n",
        "        \n",
        "class Square(RegularPolygon):\n",
        "    def area(self):\n",
        "        return self._side*self._side\n",
        "        \n",
        "class EquilateralTriangle(RegularPolygon):\n",
        "    def area(self):\n",
        "        return self._side*self._side*0.433\n",
        "    \n",
        "sq = Square(4)\n",
        "et = EquilateralTriangle(1)\n",
        "\n",
        "print(et.area()*sq.area())"
      ],
      "metadata": {
        "colab": {
          "base_uri": "https://localhost:8080/"
        },
        "outputId": "961010be-8d7c-4c7a-c14d-319018c760f0",
        "id": "gphvK2LQNi7V"
      },
      "execution_count": 31,
      "outputs": [
        {
          "output_type": "stream",
          "name": "stdout",
          "text": [
            "6.928\n"
          ]
        }
      ]
    },
    {
      "cell_type": "markdown",
      "source": [
        "Exercise 2"
      ],
      "metadata": {
        "id": "AVUHf8ICNlj1"
      }
    },
    {
      "cell_type": "code",
      "source": [
        "class Shape:\n",
        "    def __init__(self,length,height):\n",
        "      self._length = length   \n",
        "      self._height = height\n",
        "\n",
        "class Rectangle(Shape):\n",
        "    def area(self):\n",
        "        return self._length*self._height\n",
        "        \n",
        "class Triangle(Shape):\n",
        "    def area(self):\n",
        "        return (self._length*self._height)/2\n",
        "    \n",
        "calculateArea = Rectangle(5,10)\n",
        "print(\"Area of the Rectangle is:\", int(calculateArea.area()))    \n",
        "    \n",
        "calculateArea = Triangle(5,10)\n",
        "print(\"Area of the Triangle is:\", int(calculateArea.area()))"
      ],
      "metadata": {
        "colab": {
          "base_uri": "https://localhost:8080/"
        },
        "id": "cQ9AE0iDLEOO",
        "outputId": "5356e08d-a0e7-48a5-d30f-8738428d3117"
      },
      "execution_count": 32,
      "outputs": [
        {
          "output_type": "stream",
          "name": "stdout",
          "text": [
            "Area of the Rectangle is: 50\n",
            "Area of the Triangle is: 25\n"
          ]
        }
      ]
    }
  ]
}