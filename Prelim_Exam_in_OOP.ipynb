{
  "nbformat": 4,
  "nbformat_minor": 0,
  "metadata": {
    "colab": {
      "name": "Prelim Exam in OOP.ipynb",
      "provenance": [],
      "collapsed_sections": [],
      "authorship_tag": "ABX9TyMOKwC16x/J+Ok0LpyiqtUX",
      "include_colab_link": true
    },
    "kernelspec": {
      "name": "python3",
      "display_name": "Python 3"
    },
    "language_info": {
      "name": "python"
    }
  },
  "cells": [
    {
      "cell_type": "markdown",
      "metadata": {
        "id": "view-in-github",
        "colab_type": "text"
      },
      "source": [
        "<a href=\"https://colab.research.google.com/github/JohnRey-P/OOP-58001/blob/main/Prelim_Exam_in_OOP.ipynb\" target=\"_parent\"><img src=\"https://colab.research.google.com/assets/colab-badge.svg\" alt=\"Open In Colab\"/></a>"
      ]
    },
    {
      "cell_type": "markdown",
      "source": [
        "Problem 1. Examine the program below and create an appropriate flowchart (50 points)\n",
        "```n = 20\n",
        "\n",
        "total_numbers = n\n",
        "\n",
        "sum = 0\n",
        "\n",
        "while n >= 0:\n",
        "\n",
        "  sum += n\n",
        "\n",
        "  n -= 1\n",
        "\n",
        "print(\"sum =\", sum)\n",
        "\n",
        "\n",
        "\n",
        "average = sum / total_numbers\n",
        "\n",
        "print(\"Average = \", average)\n",
        "```"
      ],
      "metadata": {
        "id": "zLKt4K95IQkV"
      }
    },
    {
      "cell_type": "code",
      "execution_count": 1,
      "metadata": {
        "colab": {
          "base_uri": "https://localhost:8080/"
        },
        "id": "_VMxSS7rINAj",
        "outputId": "08cd637c-5d27-4cf4-bb1e-fbcb520c2af0"
      },
      "outputs": [
        {
          "output_type": "stream",
          "name": "stdout",
          "text": [
            "sum = 210\n",
            "Average =  10.5\n"
          ]
        }
      ],
      "source": [
        "n = 20\n",
        "\n",
        "total_numbers = n\n",
        "\n",
        "sum = 0\n",
        "\n",
        "while n >= 0:\n",
        "\n",
        "  sum += n #sum = sum + n , intial sum = 0 + 20, final sum = 209 + 1\n",
        "\n",
        "  n -= 1  #n = n - 1 , intial n = 20 - 1, final n = 1 - 1 \n",
        "\n",
        "print(\"sum =\", sum)\n",
        "\n",
        "\n",
        "\n",
        "average = sum / total_numbers\n",
        "\n",
        "print(\"Average = \", average)"
      ]
    },
    {
      "cell_type": "markdown",
      "source": [
        "Problem 2. (50 points)\n",
        "\n",
        "- Write a Python to display your full name, student number, age, and course\n",
        "- Create a class named Student with attributes: Name, Student_No, Age, School, and Course\n",
        "- Create an object name Myself and assign an instance for each attribute.\n",
        "- Create a method Self () using an instantiation of a class.\n",
        "- Insert your GitHub link \"Prelim Exam\" from your repository named \"OOP 58001\" "
      ],
      "metadata": {
        "id": "QIYGgHp2IiBB"
      }
    },
    {
      "cell_type": "markdown",
      "source": [
        "static variable object  version"
      ],
      "metadata": {
        "id": "YIaP7xXlWEDt"
      }
    },
    {
      "cell_type": "code",
      "source": [
        "class student():\n",
        "  def __init__(self,fName,stuNum,age,sChl,cRse):\n",
        "    self.fName = fName #full name\n",
        "    self.stuNum = stuNum #student number\n",
        "    self.age = age  #age\n",
        "    self.sChl = sChl  #school\n",
        "    self.cRse = cRse  #course\n",
        "\n",
        "  def Self(self):\n",
        "    return self.fName + \", \" +self.age + \" years old, \" + \" with student no. of \" + self.stuNum + \" from \" + self.cRse + \" of \" + self.sChl \n",
        "\n",
        "  def display(self):\n",
        "    print(\"You are\", self.Self())\n",
        "\n",
        "myself = student( \"John Rey Payos\",\"202150620\",\"19\", \"Adamson University\", \"BSCpE\")\n",
        "myself.display()"
      ],
      "metadata": {
        "colab": {
          "base_uri": "https://localhost:8080/"
        },
        "id": "JWGcKyTzKqo9",
        "outputId": "5f332b80-6b5b-40ca-9b9c-da2fac120d82"
      },
      "execution_count": 27,
      "outputs": [
        {
          "output_type": "stream",
          "name": "stdout",
          "text": [
            "You are John Rey Payos, 19 years old,  with student no. of 202150620 from BSCpE of Adamson University\n"
          ]
        }
      ]
    },
    {
      "cell_type": "markdown",
      "source": [
        "object user input version"
      ],
      "metadata": {
        "id": "0ovQC1gSV-tk"
      }
    },
    {
      "cell_type": "code",
      "source": [
        "class student():\n",
        "  def __init__(self,fName,stuNum,age,sChl,cRse):\n",
        "    self.fName = fName #full name\n",
        "    self.stuNum = stuNum #student number\n",
        "    self.age = age\n",
        "    self.sChl = sChl  #school\n",
        "    self.cRse = cRse  #course\n",
        "\n",
        "  def Self(self):\n",
        "    return self.fName + \", \" +self.age + \" years old, \" + \" with student no. of \" + self.stuNum + \" from \" + self.cRse + \" of \" + self.sChl \n",
        "\n",
        "  def display(self):\n",
        "    print(\"\\nYou are\", self.Self())\n",
        "\n",
        "myself = student(input(\"Full Name: \"), input(\"Student Number: \"), input(\"Age: \"), input(\"School: \"), input(\"Course: \"))\n",
        "myself.display()"
      ],
      "metadata": {
        "colab": {
          "base_uri": "https://localhost:8080/"
        },
        "id": "36MDaePdIpLC",
        "outputId": "00d04d87-7783-4b2a-8e40-800fd5da199c"
      },
      "execution_count": 28,
      "outputs": [
        {
          "output_type": "stream",
          "name": "stdout",
          "text": [
            "Full Name: John Rey Payos\n",
            "Student Number: 202150620\n",
            "Age: 19\n",
            "School: Adamson university\n",
            "Course: BSCpE\n",
            "\n",
            "You are John Rey Payos, 19 years old,  with student no. of 202150620 from BSCpE of Adamson university\n"
          ]
        }
      ]
    }
  ]
}