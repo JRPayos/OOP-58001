{
  "nbformat": 4,
  "nbformat_minor": 0,
  "metadata": {
    "colab": {
      "name": "Fundamentals of Python.ipynb",
      "provenance": [],
      "collapsed_sections": [],
      "authorship_tag": "ABX9TyMHCYU7jnskdbb6HULXEXxc",
      "include_colab_link": true
    },
    "kernelspec": {
      "name": "python3",
      "display_name": "Python 3"
    },
    "language_info": {
      "name": "python"
    }
  },
  "cells": [
    {
      "cell_type": "markdown",
      "metadata": {
        "id": "view-in-github",
        "colab_type": "text"
      },
      "source": [
        "<a href=\"https://colab.research.google.com/github/JohnRey-P/OOP-58001/blob/main/Fundamentals_of_Python.ipynb\" target=\"_parent\"><img src=\"https://colab.research.google.com/assets/colab-badge.svg\" alt=\"Open In Colab\"/></a>"
      ]
    },
    {
      "cell_type": "markdown",
      "source": [
        "\n",
        "# **FUNDAMENTALS OF PYTHON**"
      ],
      "metadata": {
        "id": "F_8UKXBMjBKs"
      }
    },
    {
      "cell_type": "markdown",
      "source": [
        "\n",
        "Python Variables"
      ],
      "metadata": {
        "id": "7ZGQm3eTl_6S"
      }
    },
    {
      "cell_type": "code",
      "source": [
        "x= float(1)\n",
        "a, b = 0, 1\n",
        "a, b, c= \"Sally\", \"John\", \"Ana\"\n",
        "\n",
        "print(\"He/She is\")\n",
        "print(a)\n",
        "\n",
        "print(\"\\nHe/She is\", (b))\n"
      ],
      "metadata": {
        "colab": {
          "base_uri": "https://localhost:8080/"
        },
        "id": "PoZbFLe-mHcR",
        "outputId": "0593777c-7ecd-46f3-81ce-9ba89629a283"
      },
      "execution_count": 32,
      "outputs": [
        {
          "output_type": "stream",
          "name": "stdout",
          "text": [
            "He/She is\n",
            "Sally\n",
            "\n",
            "He/She is John\n"
          ]
        }
      ]
    },
    {
      "cell_type": "markdown",
      "source": [
        "Casting"
      ],
      "metadata": {
        "id": "ngZafy0CnTwc"
      }
    },
    {
      "cell_type": "code",
      "source": [
        "print(x)\n",
        "print(c)"
      ],
      "metadata": {
        "colab": {
          "base_uri": "https://localhost:8080/"
        },
        "id": "GIf2iLsfnWSp",
        "outputId": "81648f7b-c6df-499b-e69c-c72e693657af"
      },
      "execution_count": 33,
      "outputs": [
        {
          "output_type": "stream",
          "name": "stdout",
          "text": [
            "1.0\n",
            "Ana\n"
          ]
        }
      ]
    },
    {
      "cell_type": "markdown",
      "source": [
        "Type() Function\n",
        "\n",
        "```\n",
        "print (type('variable'))\n",
        "```\n",
        "to know the type of the variable name\n",
        "\n"
      ],
      "metadata": {
        "id": "fxrK5LWBnA4w"
      }
    },
    {
      "cell_type": "code",
      "source": [
        "y=\"Johnny\"\n",
        "\n",
        "print(type(y))\n",
        "print(type(x))\n",
        "print(type(a))"
      ],
      "metadata": {
        "colab": {
          "base_uri": "https://localhost:8080/"
        },
        "id": "rjfYKoI0nDFA",
        "outputId": "5aa7b17b-578b-471f-8e0b-9f7467884969"
      },
      "execution_count": 34,
      "outputs": [
        {
          "output_type": "stream",
          "name": "stdout",
          "text": [
            "<class 'str'>\n",
            "<class 'float'>\n",
            "<class 'str'>\n"
          ]
        }
      ]
    },
    {
      "cell_type": "markdown",
      "source": [
        "Double qoutes and Single qoutes"
      ],
      "metadata": {
        "id": "SaKUWQoqjw1e"
      }
    },
    {
      "cell_type": "code",
      "source": [
        "h= \"Maria\"\n",
        "v= 1\n",
        "V= 2\n",
        "\n",
        "print(h)\n",
        "print(v)\n",
        "print(v+1)"
      ],
      "metadata": {
        "colab": {
          "base_uri": "https://localhost:8080/"
        },
        "id": "OWkMx8TDj3-Y",
        "outputId": "d4de7f15-b6f2-46f3-e861-b6512010a5d8"
      },
      "execution_count": null,
      "outputs": [
        {
          "output_type": "stream",
          "name": "stdout",
          "text": [
            "Maria\n",
            "1\n",
            "2\n"
          ]
        }
      ]
    },
    {
      "cell_type": "markdown",
      "source": [
        "Numerical values"
      ],
      "metadata": {
        "id": "1QOqAnOoqbTF"
      }
    },
    {
      "cell_type": "code",
      "source": [
        "x=1\n",
        "\n",
        "print(x+1)"
      ],
      "metadata": {
        "colab": {
          "base_uri": "https://localhost:8080/"
        },
        "id": "sIYXH4ZfokbG",
        "outputId": "0a193deb-d2ef-42ac-f0ed-f1ea6d453c82"
      },
      "execution_count": null,
      "outputs": [
        {
          "output_type": "stream",
          "name": "stdout",
          "text": [
            "2\n"
          ]
        }
      ]
    },
    {
      "cell_type": "markdown",
      "source": [
        "Multiple variables"
      ],
      "metadata": {
        "id": "G7HYQubXqi2T"
      }
    },
    {
      "cell_type": "code",
      "source": [
        "x,y,z=\"one\",\"two\",\"three\"\n",
        "\n",
        "print(x,y,z)\n",
        "\n",
        "print(x)\n",
        "print(y)\n",
        "print(z)"
      ],
      "metadata": {
        "colab": {
          "base_uri": "https://localhost:8080/"
        },
        "id": "OfAhVFN2pof3",
        "outputId": "a78c3b7c-bcf6-4146-d650-16922592cb02"
      },
      "execution_count": null,
      "outputs": [
        {
          "output_type": "stream",
          "name": "stdout",
          "text": [
            "one two three\n",
            "one\n",
            "two\n",
            "three\n"
          ]
        }
      ]
    },
    {
      "cell_type": "markdown",
      "source": [
        "One value to Multiple variables"
      ],
      "metadata": {
        "id": "ic_QLwZPkJwy"
      }
    },
    {
      "cell_type": "code",
      "source": [
        "x=y=z=\"Roberto\"\n",
        "\n",
        "print(x,y,z,\"\\n\")\n",
        "\n",
        "\n",
        "print(x)\n",
        "print(y)\n",
        "print(z)"
      ],
      "metadata": {
        "colab": {
          "base_uri": "https://localhost:8080/"
        },
        "id": "14vpDCudqxPy",
        "outputId": "ed77f758-56d6-4f0b-eaad-2604f361799c"
      },
      "execution_count": null,
      "outputs": [
        {
          "output_type": "stream",
          "name": "stdout",
          "text": [
            "Roberto Roberto Roberto \n",
            "\n",
            "Roberto\n",
            "Roberto\n",
            "Roberto\n"
          ]
        }
      ]
    },
    {
      "cell_type": "markdown",
      "source": [
        "Output Variables"
      ],
      "metadata": {
        "id": "O_PN_R86kWcq"
      }
    },
    {
      "cell_type": "code",
      "source": [
        "x=\"swimming\"\n",
        "y=\"Nicole is\"\n",
        "\n",
        "print(y+\" \"+x)"
      ],
      "metadata": {
        "colab": {
          "base_uri": "https://localhost:8080/"
        },
        "id": "r12FmJ_mte2q",
        "outputId": "990e3b3a-7562-4f15-969c-3f5f0243cd3f"
      },
      "execution_count": null,
      "outputs": [
        {
          "output_type": "stream",
          "name": "stdout",
          "text": [
            "Nicole is swimming\n"
          ]
        }
      ]
    },
    {
      "cell_type": "markdown",
      "source": [
        "**Arithmetic Operations**\n",
        "\n",
        "\n",
        "---\n",
        "\n",
        "\n",
        "\n",
        "* addition +\n",
        "* subtraction -\n",
        "* multiplication *\n",
        "* division /\n",
        "* exponentation **\n",
        "* modular(remainder) %\n",
        "* integer/floor division //\n",
        "\n",
        "![image.png](data:image/png;base64,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)\n"
      ],
      "metadata": {
        "id": "yfJErD4Htpkn"
      }
    },
    {
      "cell_type": "code",
      "source": [
        "a=2\n",
        "b=25\n",
        "c=4\n",
        "\n",
        "print(a ,\"+\", b , \"=\", a+b)\n",
        "print(a-b)\n",
        "print(a*b)\n",
        "print(a/b)\n",
        "print(a//b)\n",
        "print(a**c)"
      ],
      "metadata": {
        "colab": {
          "base_uri": "https://localhost:8080/"
        },
        "id": "_hn6Pbx5tsxa",
        "outputId": "4be89947-ab12-454e-e564-c22959f4ee8d"
      },
      "execution_count": null,
      "outputs": [
        {
          "output_type": "stream",
          "name": "stdout",
          "text": [
            "2 + 25 = 27\n",
            "-23\n",
            "50\n",
            "0.08\n",
            "0\n",
            "16\n"
          ]
        }
      ]
    },
    {
      "cell_type": "markdown",
      "source": [
        "**Assignment Operator**\n",
        "\n",
        "![image.png](data:image/png;base64,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)\n"
      ],
      "metadata": {
        "id": "_G6w0MbOuoTu"
      }
    },
    {
      "cell_type": "code",
      "source": [
        "a = input( \"a value=\")\n",
        "print(\"\\n\")\n",
        "b = input( \"b value=\")\n",
        "print(\"\\n\")\n",
        "\n",
        "if a==b:\n",
        "  print(\"a is equals to b\")\n",
        "\n",
        "elif a > b:\n",
        "  print(\"a is greater than to b\")\n",
        "\n",
        "elif a < b:\n",
        "   print(\"a is less than to b\")\n",
        "\n",
        "else:\n",
        "  print(\"idk\")"
      ],
      "metadata": {
        "colab": {
          "base_uri": "https://localhost:8080/"
        },
        "id": "wx-eRDpPygOi",
        "outputId": "4a75e221-ccf9-4fad-a56d-28917160c415"
      },
      "execution_count": null,
      "outputs": [
        {
          "output_type": "stream",
          "name": "stdout",
          "text": [
            "a value=23\n",
            "\n",
            "\n",
            "b value=1\n",
            "\n",
            "\n",
            "a is greater than to b\n"
          ]
        }
      ]
    },
    {
      "cell_type": "markdown",
      "source": [
        "**Bolean Operators**"
      ],
      "metadata": {
        "id": "9uveT6t4j9KJ"
      }
    },
    {
      "cell_type": "markdown",
      "source": [
        "bool() function"
      ],
      "metadata": {
        "id": "PfjM2ovYmlYH"
      }
    },
    {
      "cell_type": "code",
      "source": [
        "print(bool(\"John\"))\n",
        "print(bool(20))\n",
        "print(bool(True))\n",
        "print(bool(False))\n",
        "print(bool(0))\n",
        "print(bool(None))"
      ],
      "metadata": {
        "colab": {
          "base_uri": "https://localhost:8080/"
        },
        "id": "NdTIARklmUEP",
        "outputId": "a1683c82-f069-47d2-f8d3-f3037c3a9199"
      },
      "execution_count": 15,
      "outputs": [
        {
          "output_type": "stream",
          "name": "stdout",
          "text": [
            "True\n",
            "True\n",
            "True\n",
            "False\n",
            "False\n",
            "False\n"
          ]
        }
      ]
    },
    {
      "cell_type": "markdown",
      "source": [
        "Function can return a Boolean\n",
        "```\n",
        "def FunctionName():\n",
        "  return True/False\n",
        "\n",
        "\n",
        "print(FunctionName())\n",
        "```\n",
        "\n"
      ],
      "metadata": {
        "id": "JFSgTl50m8ZT"
      }
    },
    {
      "cell_type": "code",
      "source": [
        "def myFunction():\n",
        "  return True\n",
        "\n",
        "\n",
        "print(myFunction())"
      ],
      "metadata": {
        "colab": {
          "base_uri": "https://localhost:8080/"
        },
        "id": "KLhH_eFRnBQG",
        "outputId": "ca9ca6f7-1c35-4cb0-b420-94714c147e2a"
      },
      "execution_count": null,
      "outputs": [
        {
          "output_type": "stream",
          "name": "stdout",
          "text": [
            "True\n"
          ]
        }
      ]
    },
    {
      "cell_type": "code",
      "source": [
        "def myFunction():\n",
        "  return False\n",
        "\n",
        "if myFunction():\n",
        "  print(\"It is true\")\n",
        "\n",
        "else:\n",
        "  print(\"It is False\")"
      ],
      "metadata": {
        "colab": {
          "base_uri": "https://localhost:8080/"
        },
        "id": "gHLqEenhnhYQ",
        "outputId": "ad48763b-37e6-4bce-e863-985957e473e5"
      },
      "execution_count": null,
      "outputs": [
        {
          "output_type": "stream",
          "name": "stdout",
          "text": [
            "It is False\n"
          ]
        }
      ]
    },
    {
      "cell_type": "code",
      "source": [
        "print(10>9)\n",
        "\n",
        "a=6\n",
        "b=7\n",
        "print(a==b)\n",
        "print(a!=a)"
      ],
      "metadata": {
        "colab": {
          "base_uri": "https://localhost:8080/"
        },
        "id": "Hqdja3KloyXu",
        "outputId": "9f06ecaf-4221-4267-b32e-677b05604cad"
      },
      "execution_count": 5,
      "outputs": [
        {
          "output_type": "stream",
          "name": "stdout",
          "text": [
            "True\n",
            "False\n",
            "False\n"
          ]
        }
      ]
    },
    {
      "cell_type": "markdown",
      "source": [
        "**Bitwise Operators**\n",
        "\n",
        "![image.png](data:image/png;base64,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)"
      ],
      "metadata": {
        "id": "tixRWfQVr_0C"
      }
    },
    {
      "cell_type": "code",
      "source": [
        "#j = 60, binary 0011 1100\n",
        "#k = 13, binary 0000 1101\n",
        "j=60\n",
        "k=13\n",
        "\n",
        "print(j&k)\n",
        "print(j|k)\n",
        "print(j^k)\n",
        "print(j<<1)\n",
        "print(j<<2)\n",
        "print(j>>1)"
      ],
      "metadata": {
        "colab": {
          "base_uri": "https://localhost:8080/"
        },
        "id": "LzKMVbVEsEo0",
        "outputId": "d129d0cb-2a7a-4019-aef0-ac54e7415232"
      },
      "execution_count": 4,
      "outputs": [
        {
          "output_type": "stream",
          "name": "stdout",
          "text": [
            "12\n",
            "61\n",
            "49\n",
            "120\n",
            "240\n",
            "30\n"
          ]
        }
      ]
    },
    {
      "cell_type": "markdown",
      "source": [
        "**Comparison/Relational Operators**\n",
        "\n",
        "![image.png](data:image/png;base64,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)"
      ],
      "metadata": {
        "id": "dJ67b2BmnTgx"
      }
    },
    {
      "cell_type": "code",
      "source": [
        "print(a<b) #a=6 b=7\n",
        "print(k==j) #j=60 k=13\n",
        "print(a!=k)\n",
        "\n"
      ],
      "metadata": {
        "colab": {
          "base_uri": "https://localhost:8080/"
        },
        "id": "fLtktiKynfEN",
        "outputId": "afb9650f-3e4e-4d5a-c85f-7da4ba5373bc"
      },
      "execution_count": 29,
      "outputs": [
        {
          "output_type": "stream",
          "name": "stdout",
          "text": [
            "True\n",
            "False\n",
            "True\n"
          ]
        }
      ]
    },
    {
      "cell_type": "markdown",
      "source": [
        "**Logical Operators**\n",
        "\n",
        "![image.png](data:image/png;base64,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)"
      ],
      "metadata": {
        "id": "xkMwbrR5nflF"
      }
    },
    {
      "cell_type": "code",
      "source": [
        "print(a<b and a!=b)\n",
        "print(b<j or j==k)\n",
        "print(not (b>a or k==j))"
      ],
      "metadata": {
        "colab": {
          "base_uri": "https://localhost:8080/"
        },
        "id": "GYFWJl7VXnYG",
        "outputId": "e46fd2fe-d4f6-4a4f-db82-5363a951212b"
      },
      "execution_count": 11,
      "outputs": [
        {
          "output_type": "stream",
          "name": "stdout",
          "text": [
            "True\n",
            "True\n",
            "False\n"
          ]
        }
      ]
    },
    {
      "cell_type": "markdown",
      "source": [
        "**Identity Operators**\n",
        "\n",
        "![image.png](data:image/png;base64,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)\n",
        "\n",
        "\n",
        "\n"
      ],
      "metadata": {
        "id": "36AH29IYnl9J"
      }
    },
    {
      "cell_type": "code",
      "source": [
        "print(k is j)\n",
        "print(a is not b)"
      ],
      "metadata": {
        "colab": {
          "base_uri": "https://localhost:8080/"
        },
        "id": "tfEd-RT5XNCZ",
        "outputId": "b10b2723-ec1d-4c34-d784-250a0d0e07f7"
      },
      "execution_count": 8,
      "outputs": [
        {
          "output_type": "stream",
          "name": "stdout",
          "text": [
            "False\n",
            "True\n"
          ]
        }
      ]
    },
    {
      "cell_type": "code",
      "source": [
        "print(\"Complex logic operator practice program\\n\")\n",
        "c=20\n",
        "d=39\n",
        "e=2\n",
        "f=20\n",
        "g=2\n",
        "\n",
        "print(c is not d)\n",
        "print(not(c is d))\n",
        "\n",
        "print(\"\\n\")\n",
        "print(c, \"is not equal to\", d, \"=\", (c is not d))\n",
        "print(c, \"is equals to\", f, \"and\", g, \"is also equals to\", e,(c is f) and (g==e))"
      ],
      "metadata": {
        "colab": {
          "base_uri": "https://localhost:8080/"
        },
        "id": "-pdS15hSZPcP",
        "outputId": "028c4e31-0119-48fd-cdcb-5bddb64e8c7e"
      },
      "execution_count": 28,
      "outputs": [
        {
          "output_type": "stream",
          "name": "stdout",
          "text": [
            "Complex logic operator practice program\n",
            "\n",
            "True\n",
            "True\n",
            "\n",
            "\n",
            "20 is not equal to 39 = True\n",
            "20 is equals to 20 and 2 is also equals to 2 True\n"
          ]
        }
      ]
    }
  ]
}