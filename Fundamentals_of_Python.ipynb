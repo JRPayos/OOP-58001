{
  "nbformat": 4,
  "nbformat_minor": 0,
  "metadata": {
    "colab": {
      "name": "Fundamentals of Python.ipynb",
      "provenance": [],
      "collapsed_sections": [],
      "authorship_tag": "ABX9TyPxbWMTabH3IIsFNu8gGr9A",
      "include_colab_link": true
    },
    "kernelspec": {
      "name": "python3",
      "display_name": "Python 3"
    },
    "language_info": {
      "name": "python"
    }
  },
  "cells": [
    {
      "cell_type": "markdown",
      "metadata": {
        "id": "view-in-github",
        "colab_type": "text"
      },
      "source": [
        "<a href=\"https://colab.research.google.com/github/JohnRey-P/OOP-58001/blob/main/Fundamentals_of_Python.ipynb\" target=\"_parent\"><img src=\"https://colab.research.google.com/assets/colab-badge.svg\" alt=\"Open In Colab\"/></a>"
      ]
    },
    {
      "cell_type": "markdown",
      "source": [
        "**Practice python test**"
      ],
      "metadata": {
        "id": "7ZGQm3eTl_6S"
      }
    },
    {
      "cell_type": "code",
      "source": [
        "x=1\n",
        "a, b = 0, 1\n",
        "a, b, c= \"Sally\", \"John\", \"Ana\"\n",
        "\n",
        "print(\"He/She is\")\n",
        "print(a)\n"
      ],
      "metadata": {
        "colab": {
          "base_uri": "https://localhost:8080/"
        },
        "id": "PoZbFLe-mHcR",
        "outputId": "a089d970-676a-48dd-8680-11230f2cbe53"
      },
      "execution_count": null,
      "outputs": [
        {
          "output_type": "stream",
          "name": "stdout",
          "text": [
            "He/She is\n",
            "Sally\n"
          ]
        }
      ]
    },
    {
      "cell_type": "markdown",
      "source": [
        "Casting"
      ],
      "metadata": {
        "id": "ngZafy0CnTwc"
      }
    },
    {
      "cell_type": "code",
      "source": [
        "print(int(x))"
      ],
      "metadata": {
        "colab": {
          "base_uri": "https://localhost:8080/"
        },
        "id": "GIf2iLsfnWSp",
        "outputId": "6eee6748-db57-469d-bf12-5a495c5914d7"
      },
      "execution_count": null,
      "outputs": [
        {
          "output_type": "stream",
          "name": "stdout",
          "text": [
            "1\n"
          ]
        }
      ]
    },
    {
      "cell_type": "markdown",
      "source": [
        "Type Function\n",
        "\n",
        "```\n",
        "print (type('variable'))\n",
        "```\n",
        "to know the type of the variable name\n",
        "\n"
      ],
      "metadata": {
        "id": "fxrK5LWBnA4w"
      }
    },
    {
      "cell_type": "code",
      "source": [
        "y=\"Johnny\"\n",
        "\n",
        "print(type(y))\n",
        "print(type(x))"
      ],
      "metadata": {
        "colab": {
          "base_uri": "https://localhost:8080/"
        },
        "id": "rjfYKoI0nDFA",
        "outputId": "a8e30f89-7be9-4e89-bebf-1f0b12ffdda3"
      },
      "execution_count": null,
      "outputs": [
        {
          "output_type": "stream",
          "name": "stdout",
          "text": [
            "<class 'str'>\n",
            "<class 'str'>\n"
          ]
        }
      ]
    },
    {
      "cell_type": "markdown",
      "source": [
        "Numerical values"
      ],
      "metadata": {
        "id": "1QOqAnOoqbTF"
      }
    },
    {
      "cell_type": "code",
      "source": [
        "x=1\n",
        "\n",
        "print(x+1)"
      ],
      "metadata": {
        "colab": {
          "base_uri": "https://localhost:8080/"
        },
        "id": "sIYXH4ZfokbG",
        "outputId": "0a193deb-d2ef-42ac-f0ed-f1ea6d453c82"
      },
      "execution_count": null,
      "outputs": [
        {
          "output_type": "stream",
          "name": "stdout",
          "text": [
            "2\n"
          ]
        }
      ]
    },
    {
      "cell_type": "markdown",
      "source": [
        "Multiple variables"
      ],
      "metadata": {
        "id": "G7HYQubXqi2T"
      }
    },
    {
      "cell_type": "code",
      "source": [
        "x,y,z=\"one\",\"two\",\"three\"\n",
        "\n",
        "print(x,y,z)\n",
        "\n",
        "print(x)\n",
        "print(y)\n",
        "print(z)"
      ],
      "metadata": {
        "colab": {
          "base_uri": "https://localhost:8080/"
        },
        "id": "OfAhVFN2pof3",
        "outputId": "a78c3b7c-bcf6-4146-d650-16922592cb02"
      },
      "execution_count": null,
      "outputs": [
        {
          "output_type": "stream",
          "name": "stdout",
          "text": [
            "one two three\n",
            "one\n",
            "two\n",
            "three\n"
          ]
        }
      ]
    },
    {
      "cell_type": "code",
      "source": [
        "x=y=z=\"Roberto\"\n",
        "\n",
        "print(x,y,z,\"\\n\")\n",
        "\n",
        "\n",
        "print(x)\n",
        "print(y)\n",
        "print(z)"
      ],
      "metadata": {
        "colab": {
          "base_uri": "https://localhost:8080/"
        },
        "id": "14vpDCudqxPy",
        "outputId": "ed77f758-56d6-4f0b-eaad-2604f361799c"
      },
      "execution_count": null,
      "outputs": [
        {
          "output_type": "stream",
          "name": "stdout",
          "text": [
            "Roberto Roberto Roberto \n",
            "\n",
            "Roberto\n",
            "Roberto\n",
            "Roberto\n"
          ]
        }
      ]
    },
    {
      "cell_type": "code",
      "source": [
        "x=\"swimming\"\n",
        "y=\"Nicole is\"\n",
        "\n",
        "print(y+\" \"+x)"
      ],
      "metadata": {
        "colab": {
          "base_uri": "https://localhost:8080/"
        },
        "id": "r12FmJ_mte2q",
        "outputId": "990e3b3a-7562-4f15-969c-3f5f0243cd3f"
      },
      "execution_count": null,
      "outputs": [
        {
          "output_type": "stream",
          "name": "stdout",
          "text": [
            "Nicole is swimming\n"
          ]
        }
      ]
    },
    {
      "cell_type": "markdown",
      "source": [
        "**Arithmetic Operations**\n",
        "\n",
        "\n",
        "---\n",
        "\n",
        "\n",
        "\n",
        "* addition +\n",
        "* subtraction -\n",
        "* multiplication *\n",
        "* division /\n",
        "* exponentation **\n",
        "* modular(remainder) %\n",
        "* integer/floor division //\n",
        "\n",
        "![image.png](data:image/png;base64,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)\n"
      ],
      "metadata": {
        "id": "yfJErD4Htpkn"
      }
    },
    {
      "cell_type": "code",
      "source": [
        "a=2\n",
        "b=25\n",
        "c=4\n",
        "\n",
        "print(a ,\"+\", b , \"=\") \n",
        "print(a+b)\n",
        "print(a-b)\n",
        "print(a*b)\n",
        "print(a/b)\n",
        "print(a//b)\n",
        "print(a**c)"
      ],
      "metadata": {
        "colab": {
          "base_uri": "https://localhost:8080/"
        },
        "id": "_hn6Pbx5tsxa",
        "outputId": "d560a3b2-2e30-4f39-f321-878cdf50d9a3"
      },
      "execution_count": null,
      "outputs": [
        {
          "output_type": "stream",
          "name": "stdout",
          "text": [
            "2 + 25 =\n",
            "27\n",
            "-23\n",
            "50\n",
            "0.08\n",
            "0\n",
            "16\n"
          ]
        }
      ]
    },
    {
      "cell_type": "markdown",
      "source": [
        "**Assignment Operator**\n",
        "\n",
        "![image.png](data:image/png;base64,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)\n"
      ],
      "metadata": {
        "id": "_G6w0MbOuoTu"
      }
    },
    {
      "cell_type": "code",
      "source": [
        "a = input( \"a value=\")\n",
        "print(\"\\n\")\n",
        "b = input( \"b value=\")\n",
        "print(\"\\n\")\n",
        "\n",
        "if a==b:\n",
        "  print(\"a is equals to b\")\n",
        "\n",
        "elif a > b:\n",
        "  print(\"a is greater than to b\")\n",
        "\n",
        "elif a < b:\n",
        "   print(\"a is less than to b\")\n",
        "\n",
        "else:\n",
        "  print(\"nigger\")"
      ],
      "metadata": {
        "colab": {
          "base_uri": "https://localhost:8080/"
        },
        "id": "wx-eRDpPygOi",
        "outputId": "4a75e221-ccf9-4fad-a56d-28917160c415"
      },
      "execution_count": null,
      "outputs": [
        {
          "output_type": "stream",
          "name": "stdout",
          "text": [
            "a value=23\n",
            "\n",
            "\n",
            "b value=1\n",
            "\n",
            "\n",
            "a is greater than to b\n"
          ]
        }
      ]
    },
    {
      "cell_type": "markdown",
      "source": [
        "**Bolean Operator**"
      ],
      "metadata": {
        "id": "9uveT6t4j9KJ"
      }
    },
    {
      "cell_type": "markdown",
      "source": [
        "bool() function"
      ],
      "metadata": {
        "id": "PfjM2ovYmlYH"
      }
    },
    {
      "cell_type": "code",
      "source": [
        "print(bool(\"John\"))\n",
        "print(bool(20))\n",
        "print(bool(False))\n",
        "print(bool(0))\n",
        "print(bool(None))"
      ],
      "metadata": {
        "colab": {
          "base_uri": "https://localhost:8080/"
        },
        "id": "NdTIARklmUEP",
        "outputId": "d7896ca1-4823-46f9-b0a7-0fa79e201446"
      },
      "execution_count": null,
      "outputs": [
        {
          "output_type": "stream",
          "name": "stdout",
          "text": [
            "True\n",
            "True\n",
            "False\n",
            "False\n",
            "False\n"
          ]
        }
      ]
    },
    {
      "cell_type": "markdown",
      "source": [
        "Function can return a Boolean\n",
        "\n",
        "def FunctionName():\n",
        "  return True/False\n",
        "\n",
        "\n",
        "print(FunctionName())"
      ],
      "metadata": {
        "id": "JFSgTl50m8ZT"
      }
    },
    {
      "cell_type": "code",
      "source": [
        "def myFunction():\n",
        "  return True\n",
        "\n",
        "\n",
        "print(myFunction())"
      ],
      "metadata": {
        "colab": {
          "base_uri": "https://localhost:8080/"
        },
        "id": "KLhH_eFRnBQG",
        "outputId": "ca9ca6f7-1c35-4cb0-b420-94714c147e2a"
      },
      "execution_count": null,
      "outputs": [
        {
          "output_type": "stream",
          "name": "stdout",
          "text": [
            "True\n"
          ]
        }
      ]
    },
    {
      "cell_type": "code",
      "source": [
        "def myFunction():\n",
        "  return False\n",
        "\n",
        "if myFunction():\n",
        "  print(\"It is true\")\n",
        "\n",
        "else:\n",
        "  print(\"It is False\")"
      ],
      "metadata": {
        "colab": {
          "base_uri": "https://localhost:8080/"
        },
        "id": "gHLqEenhnhYQ",
        "outputId": "ad48763b-37e6-4bce-e863-985957e473e5"
      },
      "execution_count": null,
      "outputs": [
        {
          "output_type": "stream",
          "name": "stdout",
          "text": [
            "It is False\n"
          ]
        }
      ]
    },
    {
      "cell_type": "code",
      "source": [
        "print(10>9)\n",
        "\n",
        "a=6\n",
        "b=7\n",
        "print(a==b)\n",
        "print(a!=a)"
      ],
      "metadata": {
        "colab": {
          "base_uri": "https://localhost:8080/"
        },
        "id": "Hqdja3KloyXu",
        "outputId": "1d37bfc0-2713-4667-c6de-3f8cc1ad9486"
      },
      "execution_count": null,
      "outputs": [
        {
          "output_type": "stream",
          "name": "stdout",
          "text": [
            "True\n",
            "False\n",
            "False\n"
          ]
        }
      ]
    },
    {
      "cell_type": "markdown",
      "source": [
        "**Bitwise Operators**"
      ],
      "metadata": {
        "id": "tixRWfQVr_0C"
      }
    },
    {
      "cell_type": "code",
      "source": [
        "#a = 60, binary 0011 1100\n",
        "#b = 13, binary 0000 1101\n",
        "a=60\n",
        "b=13\n",
        "\n",
        "print(a&b)\n",
        "print(a|b)\n",
        "print(a^b)\n",
        "print(a<<1)\n",
        "print(a<<2)\n",
        "print(a>>1)"
      ],
      "metadata": {
        "colab": {
          "base_uri": "https://localhost:8080/"
        },
        "id": "LzKMVbVEsEo0",
        "outputId": "1e3ae629-46b3-4133-87c7-12a903200862"
      },
      "execution_count": null,
      "outputs": [
        {
          "output_type": "stream",
          "name": "stdout",
          "text": [
            "12\n",
            "61\n",
            "49\n",
            "120\n",
            "240\n",
            "30\n"
          ]
        }
      ]
    }
  ]
}