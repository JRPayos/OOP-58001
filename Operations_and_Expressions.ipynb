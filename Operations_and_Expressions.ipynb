{
  "nbformat": 4,
  "nbformat_minor": 0,
  "metadata": {
    "colab": {
      "name": "Operations and Expressions.ipynb",
      "provenance": [],
      "collapsed_sections": [
        "OkgDA-3zbpU-"
      ],
      "toc_visible": true,
      "authorship_tag": "ABX9TyPMDpQzyM7xF0kjG470Fu2L",
      "include_colab_link": true
    },
    "kernelspec": {
      "name": "python3",
      "display_name": "Python 3"
    },
    "language_info": {
      "name": "python"
    }
  },
  "cells": [
    {
      "cell_type": "markdown",
      "metadata": {
        "id": "view-in-github",
        "colab_type": "text"
      },
      "source": [
        "<a href=\"https://colab.research.google.com/github/JohnRey-P/OOP-58001/blob/main/Operations_and_Expressions.ipynb\" target=\"_parent\"><img src=\"https://colab.research.google.com/assets/colab-badge.svg\" alt=\"Open In Colab\"/></a>"
      ]
    },
    {
      "cell_type": "markdown",
      "source": [
        "# ***Operations and Expressions in Python***"
      ],
      "metadata": {
        "id": "OkgDA-3zbpU-"
      }
    },
    {
      "cell_type": "markdown",
      "source": [
        "\n",
        "# Boolean operators\n"
      ],
      "metadata": {
        "id": "T9bcilm8cGER"
      }
    },
    {
      "cell_type": "markdown",
      "source": [
        "\n",
        "\n",
        "*   Boolean represent one of two values: True or False\n",
        "*   When you evaluate two values, the Python evaluates and returns the Boolean answer\n",
        "\n"
      ],
      "metadata": {
        "id": "aSFQ-aPZIvdn"
      }
    },
    {
      "cell_type": "code",
      "execution_count": null,
      "metadata": {
        "id": "abADax1MXuoR",
        "colab": {
          "base_uri": "https://localhost:8080/"
        },
        "outputId": "8a8b5697-b23b-4b46-8f05-1b2f422edc26"
      },
      "outputs": [
        {
          "output_type": "stream",
          "name": "stdout",
          "text": [
            "True\n",
            "False\n",
            "False\n",
            "True\n",
            "True\n"
          ]
        }
      ],
      "source": [
        "print(10>5)\n",
        "print(10<5)\n",
        "print(10==5)\n",
        "print(10==5+5)\n",
        "print(10!=5)"
      ]
    },
    {
      "cell_type": "markdown",
      "source": [
        "Boolean Function\n",
        "```\n",
        "Bool() Function\n",
        "```\n"
      ],
      "metadata": {
        "id": "onEQkEifdnZW"
      }
    },
    {
      "cell_type": "code",
      "source": [
        "print(bool(\"John Rey\"))\n",
        "print(bool(78))\n",
        "\n",
        "print(\"\\n\")\n",
        "\n",
        "print(bool())\n",
        "print(bool(0))\n",
        "print(bool(False))\n",
        "print(bool(None))"
      ],
      "metadata": {
        "colab": {
          "base_uri": "https://localhost:8080/"
        },
        "id": "s-G1j0KfJR9-",
        "outputId": "ecd0bd0f-778c-4b65-dda9-b9faf922dbd0"
      },
      "execution_count": 10,
      "outputs": [
        {
          "output_type": "stream",
          "name": "stdout",
          "text": [
            "True\n",
            "True\n",
            "\n",
            "\n",
            "False\n",
            "False\n",
            "False\n",
            "False\n"
          ]
        }
      ]
    },
    {
      "cell_type": "markdown",
      "source": [
        "Execute code based on boolean answer of a function"
      ],
      "metadata": {
        "id": "M4l_QL7WKAJG"
      }
    },
    {
      "cell_type": "code",
      "source": [
        "def MyFunction():\n",
        "  return False\n",
        "\n",
        "print(MyFunction())"
      ],
      "metadata": {
        "colab": {
          "base_uri": "https://localhost:8080/"
        },
        "id": "n74zO8mJJ2cn",
        "outputId": "17aeb07f-055b-4038-bc6c-b9b690278d80"
      },
      "execution_count": 11,
      "outputs": [
        {
          "output_type": "stream",
          "name": "stdout",
          "text": [
            "False\n"
          ]
        }
      ]
    },
    {
      "cell_type": "code",
      "source": [
        "def MyFunction():\n",
        "  return True\n",
        "\n",
        "if MyFunction():\n",
        "  print(\"YES\") #YES if MyFunction returns True\n",
        "\n",
        "else:\n",
        "  print(\"NO\") #NO if MYFunction returns False"
      ],
      "metadata": {
        "colab": {
          "base_uri": "https://localhost:8080/"
        },
        "id": "9DBdh0oOKlBW",
        "outputId": "02867605-3244-4e7f-cf47-9aebfe7091b7"
      },
      "execution_count": 14,
      "outputs": [
        {
          "output_type": "stream",
          "name": "stdout",
          "text": [
            "YES\n"
          ]
        }
      ]
    },
    {
      "cell_type": "markdown",
      "source": [
        "*Application 1*\n",
        "\n",
        "---\n",
        "\n"
      ],
      "metadata": {
        "id": "LTnTIWGkLb_I"
      }
    },
    {
      "cell_type": "code",
      "source": [
        "a=6\n",
        "b=7\n",
        "c=4\n",
        "print(\"a==b\",a==b)\n",
        "print(\"a!=b\",a!=b)\n",
        "\n",
        "if a==b:\n",
        "  print(\"then, a is equals to b\")\n",
        "else:\n",
        "  print(\"then, a is not equals to b\")\n",
        "\n",
        "print(\"\\n\")\n",
        "\n",
        "print(a>c)\n",
        "print(a<c)\n",
        "if a>c:\n",
        "  print(\"then, a is greater than c\")\n",
        "\n",
        "else:\n",
        "  print(\"then, a is less than c\")"
      ],
      "metadata": {
        "colab": {
          "base_uri": "https://localhost:8080/"
        },
        "id": "Tkzm3jVDLVEv",
        "outputId": "e39b2baa-c7fa-4df2-e83f-12e8cf4ee5da"
      },
      "execution_count": 21,
      "outputs": [
        {
          "output_type": "stream",
          "name": "stdout",
          "text": [
            "a==b False\n",
            "a!=b True\n",
            "then, a is not equals to b\n",
            "\n",
            "\n",
            "True\n",
            "False\n",
            "then, a is greater than c\n"
          ]
        }
      ]
    },
    {
      "cell_type": "markdown",
      "source": [
        "#**Python Operators**"
      ],
      "metadata": {
        "id": "XaqEjzveNDDH"
      }
    },
    {
      "cell_type": "markdown",
      "source": [
        "  **Arithmetic Operations**\n",
        "  ---\n",
        "\n",
        "---\n",
        "![image.png](data:image/png;base64,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)\n"
      ],
      "metadata": {
        "id": "yfJErD4Htpkn"
      }
    },
    {
      "cell_type": "code",
      "source": [
        "#ARITMETHIC OPERATORS\n",
        "\n",
        "print(10+5)\n",
        "print(10-5)\n",
        "print(10*5)\n",
        "print(10/5)\n",
        "print(10//5)\n",
        "print(10%5)\n",
        "print(10**5)"
      ],
      "metadata": {
        "colab": {
          "base_uri": "https://localhost:8080/"
        },
        "id": "rwWvcDcENUe4",
        "outputId": "c57b9543-57f1-4cab-ecd6-6215b9aad963"
      },
      "execution_count": 23,
      "outputs": [
        {
          "output_type": "stream",
          "name": "stdout",
          "text": [
            "15\n",
            "5\n",
            "50\n",
            "2.0\n",
            "2\n",
            "0\n",
            "100000\n"
          ]
        }
      ]
    },
    {
      "cell_type": "markdown",
      "source": [
        "**Bitwise operators**\n",
        "---\n",
        "\n",
        "---\n",
        "\n",
        "\n",
        "![image.png](data:image/png;base64,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)"
      ],
      "metadata": {
        "id": "QXTFkgEzN15Y"
      }
    },
    {
      "cell_type": "code",
      "source": [
        "j=60 #0011 1100\n",
        "k=13 #0000 1101\n",
        "\n",
        "\n",
        "print(j&k)\n",
        "print(j|k)\n",
        "print(j^k)\n",
        "print(~k)\n",
        "print(~j)\n",
        "print(j<<1)\n",
        "print(j<<2)\n",
        "print(j>>1)"
      ],
      "metadata": {
        "colab": {
          "base_uri": "https://localhost:8080/"
        },
        "id": "1taB5MO9N5j-",
        "outputId": "54d0a4af-eeed-40ed-9c08-34bb2e6b7761"
      },
      "execution_count": 32,
      "outputs": [
        {
          "output_type": "stream",
          "name": "stdout",
          "text": [
            "12\n",
            "61\n",
            "49\n",
            "-14\n",
            "-61\n",
            "120\n",
            "240\n",
            "30\n"
          ]
        }
      ]
    },
    {
      "cell_type": "markdown",
      "source": [
        "**Assignment Operator**\n",
        "---\n",
        "\n",
        "---\n",
        "\n",
        "\n",
        "![image.png](data:image/png;base64,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)\n"
      ],
      "metadata": {
        "id": "_G6w0MbOuoTu"
      }
    },
    {
      "cell_type": "markdown",
      "source": [
        "*Application 2*\n",
        "\n",
        "---\n",
        "\n"
      ],
      "metadata": {
        "id": "oBLkCdhtQRfo"
      }
    },
    {
      "cell_type": "code",
      "source": [
        "#ASSIGNMENT OPERATOR\n",
        "\n",
        "l=24\n",
        "\n",
        "l+=7\n",
        "print(l)"
      ],
      "metadata": {
        "colab": {
          "base_uri": "https://localhost:8080/"
        },
        "id": "du3OAKmxQ7FG",
        "outputId": "c27024a3-65de-4cf0-cd6a-b9d5462aebdd"
      },
      "execution_count": 26,
      "outputs": [
        {
          "output_type": "stream",
          "name": "stdout",
          "text": [
            "31\n"
          ]
        }
      ]
    },
    {
      "cell_type": "markdown",
      "source": [
        "**Logical Operators**\n",
        "---\n",
        "\n",
        "---\n",
        "\n",
        "\n",
        "![image.png](data:image/png;base64,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)"
      ],
      "metadata": {
        "id": "xkMwbrR5nflF"
      }
    },
    {
      "cell_type": "code",
      "source": [
        "m= True\n",
        "n= False\n",
        "\n",
        "print(m and n) # T and F >> F\n",
        "print(m or n)  # T or F >> T\n",
        "print(not(m or n))  # ~(T or F) >> ~(T) >> F"
      ],
      "metadata": {
        "colab": {
          "base_uri": "https://localhost:8080/"
        },
        "id": "CAefm0MUS39O",
        "outputId": "441fd955-d516-4aa3-84a6-0870d9071694"
      },
      "execution_count": 37,
      "outputs": [
        {
          "output_type": "stream",
          "name": "stdout",
          "text": [
            "False\n",
            "True\n",
            "False\n"
          ]
        }
      ]
    },
    {
      "cell_type": "code",
      "source": [
        "#a=6, b=7\n",
        "#j=60, k= 13\n",
        "#m=True, n=False\n",
        "\n",
        "print(m!=n or j<b)  #(T!=F) or (60<7) >> T or F >> T\n",
        "print(a<b and a!=b) #(6<7) and (6!=7) >> T and T >> T\n",
        "print(b<j or j==k)\n",
        "print(not (b>a or k==j))"
      ],
      "metadata": {
        "colab": {
          "base_uri": "https://localhost:8080/"
        },
        "id": "GYFWJl7VXnYG",
        "outputId": "48985763-deac-4ecd-f74e-7078f2accb59"
      },
      "execution_count": 39,
      "outputs": [
        {
          "output_type": "stream",
          "name": "stdout",
          "text": [
            "True\n",
            "True\n",
            "True\n",
            "False\n"
          ]
        }
      ]
    },
    {
      "cell_type": "markdown",
      "source": [
        "**Identity Operators**\n",
        "---\n",
        "\n",
        "---\n",
        "\n",
        "\n",
        "![image.png](data:image/png;base64,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)\n",
        "\n",
        "\n",
        "\n"
      ],
      "metadata": {
        "id": "36AH29IYnl9J"
      }
    },
    {
      "cell_type": "code",
      "source": [
        "print(k is j)\n",
        "print(a is not b)"
      ],
      "metadata": {
        "colab": {
          "base_uri": "https://localhost:8080/"
        },
        "id": "tfEd-RT5XNCZ",
        "outputId": "63d3ecb6-f34d-44da-8340-9271afd1dcc6"
      },
      "execution_count": 40,
      "outputs": [
        {
          "output_type": "stream",
          "name": "stdout",
          "text": [
            "False\n",
            "True\n"
          ]
        }
      ]
    },
    {
      "cell_type": "markdown",
      "source": [
        "# **Conditional statement**"
      ],
      "metadata": {
        "id": "ZGGCEeOSU9IO"
      }
    },
    {
      "cell_type": "markdown",
      "source": [
        "*Control Structure*\n",
        "---"
      ],
      "metadata": {
        "id": "bG-nlCBdWgCn"
      }
    },
    {
      "cell_type": "markdown",
      "source": [
        "If statement\n"
      ],
      "metadata": {
        "id": "1jTKDdj7VP0b"
      }
    },
    {
      "cell_type": "code",
      "source": [
        "dog = 40\n",
        "cat = 25.4\n",
        "\n",
        "if dog>cat:\n",
        "  print(\"the cat is greater than the dog\")"
      ],
      "metadata": {
        "colab": {
          "base_uri": "https://localhost:8080/"
        },
        "id": "gBS42_fNVaSj",
        "outputId": "58777cf1-511f-4799-9c83-e76b1b734e2f"
      },
      "execution_count": 41,
      "outputs": [
        {
          "output_type": "stream",
          "name": "stdout",
          "text": [
            "the cat is greater than the dog\n"
          ]
        }
      ]
    },
    {
      "cell_type": "markdown",
      "source": [
        "Elif statement"
      ],
      "metadata": {
        "id": "G1RIjXbDV3sh"
      }
    },
    {
      "cell_type": "code",
      "source": [
        "if dog>cat:\n",
        "  print(\"the dog is greater than the cat\")\n",
        "elif dog<cat:\n",
        "  print(\"the dog is less than the cat\")"
      ],
      "metadata": {
        "colab": {
          "base_uri": "https://localhost:8080/"
        },
        "id": "tOZiqJKQV5jv",
        "outputId": "fdb4ce47-703f-4de5-8698-9e37ffc46896"
      },
      "execution_count": 44,
      "outputs": [
        {
          "output_type": "stream",
          "name": "stdout",
          "text": [
            "the dog is greater than the cat\n"
          ]
        }
      ]
    },
    {
      "cell_type": "markdown",
      "source": [
        "Else statement"
      ],
      "metadata": {
        "id": "RAHkNUofWW1d"
      }
    },
    {
      "cell_type": "code",
      "source": [
        "if dog==cat:\n",
        "  print(\"the dog is equals to the cat\")\n",
        "else:\n",
        "  print(\"the dog is not equals to the cat\")"
      ],
      "metadata": {
        "colab": {
          "base_uri": "https://localhost:8080/"
        },
        "id": "I2mJXzcEWZql",
        "outputId": "a367f1d3-868b-499b-e4d4-48f110c88900"
      },
      "execution_count": 48,
      "outputs": [
        {
          "output_type": "stream",
          "name": "stdout",
          "text": [
            "the dog is not equals to the cat\n"
          ]
        }
      ]
    },
    {
      "cell_type": "code",
      "source": [
        "n1 = int(input(\"1st number: \"))\n",
        "n2 = int(input(\"2nd number: \"))\n",
        "\n",
        "if n1>n2:\n",
        "  print(n1, \"is greater than\", n2)\n",
        "elif n1<n2:\n",
        "  print(n1,\"is less than\", n2)\n",
        "else:\n",
        "  print(n1, \"is equals to\", n2)"
      ],
      "metadata": {
        "colab": {
          "base_uri": "https://localhost:8080/"
        },
        "id": "o7wwyA75YlpA",
        "outputId": "c54c02ec-9138-4c36-8b7b-7276ce534b4e"
      },
      "execution_count": 53,
      "outputs": [
        {
          "output_type": "stream",
          "name": "stdout",
          "text": [
            "1st number: 12\n",
            "2nd number: 12\n",
            "12 is equals to 12\n"
          ]
        }
      ]
    },
    {
      "cell_type": "code",
      "source": [
        "number =int(input(\"number: \"))\n",
        "\n",
        "if number>0:\n",
        "  print(\"the number is POSITIVE\")\n",
        "elif number<0:\n",
        "  print(\"the number is NEGATIVE\")\n",
        "else:\n",
        "  print(\"the number is 0\")\n",
        "\n"
      ],
      "metadata": {
        "colab": {
          "base_uri": "https://localhost:8080/"
        },
        "id": "q74n-QItaT9v",
        "outputId": "3a728ce3-6755-4607-b029-b787f4fb5e01"
      },
      "execution_count": 56,
      "outputs": [
        {
          "output_type": "stream",
          "name": "stdout",
          "text": [
            "number: -199\n",
            "the number is NEGATIVE\n"
          ]
        }
      ]
    },
    {
      "cell_type": "markdown",
      "source": [
        "*Application 3* - python program that will accept a person entitled to vote or not."
      ],
      "metadata": {
        "id": "2Li3dBd2a445"
      }
    },
    {
      "cell_type": "code",
      "source": [
        "age = int(input(\"your age: \"))\n",
        "\n",
        "if age>=18:\n",
        "  print(\"you are qualified to vote\")\n",
        "else:\n",
        "  print(\"you are not qualified to vote\")"
      ],
      "metadata": {
        "colab": {
          "base_uri": "https://localhost:8080/"
        },
        "id": "3NEBp_YFbIJP",
        "outputId": "ccf257bd-9a95-4c96-c206-e2174c9dc2bf"
      },
      "execution_count": 58,
      "outputs": [
        {
          "output_type": "stream",
          "name": "stdout",
          "text": [
            "your age: 19\n",
            "you are qualified to vote\n"
          ]
        }
      ]
    },
    {
      "cell_type": "markdown",
      "source": [
        "Nested If Else"
      ],
      "metadata": {
        "id": "SDHhgpCBblfb"
      }
    },
    {
      "cell_type": "code",
      "source": [
        "f = int(input())\n",
        "\n",
        "if f>20:\n",
        "  print(\"f is above 20\")\n",
        "  if f>40:\n",
        "    print(\"and also above 40\")\n",
        "    if f>60:\n",
        "      print(\"and also above 60\")\n",
        "    else:\n",
        "      print(\"but below 60\")\n",
        "  else:\n",
        "    print(\"but below 40\")\n",
        "else:\n",
        "  print(\"f is below 20\")"
      ],
      "metadata": {
        "colab": {
          "base_uri": "https://localhost:8080/"
        },
        "id": "Uz-dAWLxbnOM",
        "outputId": "06fab600-f76f-4d05-9c77-42b52d4ad4b5"
      },
      "execution_count": 67,
      "outputs": [
        {
          "output_type": "stream",
          "name": "stdout",
          "text": [
            "58\n",
            "f is above 20\n",
            "and also above 40\n",
            "but below 60\n"
          ]
        }
      ]
    },
    {
      "cell_type": "markdown",
      "source": [
        "#**LOOP Structure**"
      ],
      "metadata": {
        "id": "fjSuVpn5dPTA"
      }
    },
    {
      "cell_type": "markdown",
      "source": [
        "For loop\n",
        "---\n"
      ],
      "metadata": {
        "id": "C5V86U9Je6da"
      }
    },
    {
      "cell_type": "code",
      "source": [
        "week=[\"Sunday\",\"Monday\",\"Tuesday\", \"Wednesday\", \"Thursday\", \"Friday\", \"Saturday\"]\n",
        "season=[\"rainy\",\"sunny\"]\n",
        "for x in week:\n",
        "  for y in season:\n",
        "    print(y, x)"
      ],
      "metadata": {
        "colab": {
          "base_uri": "https://localhost:8080/"
        },
        "id": "-5KFtLgBr08i",
        "outputId": "56ed9cf3-dbab-48b8-d912-0573a2a5a3b3"
      },
      "execution_count": 69,
      "outputs": [
        {
          "output_type": "stream",
          "name": "stdout",
          "text": [
            "rainy Sunday\n",
            "sunny Sunday\n",
            "rainy Monday\n",
            "sunny Monday\n",
            "rainy Tuesday\n",
            "sunny Tuesday\n",
            "rainy Wednesday\n",
            "sunny Wednesday\n",
            "rainy Thursday\n",
            "sunny Thursday\n",
            "rainy Friday\n",
            "sunny Friday\n",
            "rainy Saturday\n",
            "sunny Saturday\n"
          ]
        }
      ]
    },
    {
      "cell_type": "markdown",
      "source": [
        "Break statement"
      ],
      "metadata": {
        "id": "ymvgTvUMeu67"
      }
    },
    {
      "cell_type": "markdown",
      "source": [
        "if statement after print() includes the statement and stops the for loop"
      ],
      "metadata": {
        "id": "aDxKYoxptXD-"
      }
    },
    {
      "cell_type": "code",
      "source": [
        "week=[\"Sunday\",\"Monday\",\"Tuesday\", \"Wednesday\", \"Thursday\", \"Friday\", \"Saturday\"]\n",
        "\n",
        "for x in week:\n",
        "  print(x)\n",
        "  if x==\"Thursday\":\n",
        "    break"
      ],
      "metadata": {
        "colab": {
          "base_uri": "https://localhost:8080/"
        },
        "id": "-PGrhzRwscnT",
        "outputId": "2c742f15-5de5-4d97-88d2-63491bf17c25"
      },
      "execution_count": 2,
      "outputs": [
        {
          "output_type": "stream",
          "name": "stdout",
          "text": [
            "Sunday\n",
            "Monday\n",
            "Tuesday\n",
            "Wednesday\n",
            "Thursday\n"
          ]
        }
      ]
    },
    {
      "cell_type": "markdown",
      "source": [
        "if statement before print() excludes the statement and stops the for loop"
      ],
      "metadata": {
        "id": "3-EJruDutJaA"
      }
    },
    {
      "cell_type": "code",
      "source": [
        "week=[\"Sunday\",\"Monday\",\"Tuesday\", \"Wednesday\", \"Thursday\", \"Friday\", \"Saturday\"]\n",
        "\n",
        "for x in week:\n",
        "  if x==\"Thursday\":\n",
        "    break\n",
        "  print(x)"
      ],
      "metadata": {
        "colab": {
          "base_uri": "https://localhost:8080/"
        },
        "id": "vNKMom6Xsy1S",
        "outputId": "86d1fa12-bc62-4d93-ab5c-ba1c06aa642b"
      },
      "execution_count": 4,
      "outputs": [
        {
          "output_type": "stream",
          "name": "stdout",
          "text": [
            "Sunday\n",
            "Monday\n",
            "Tuesday\n",
            "Wednesday\n"
          ]
        }
      ]
    },
    {
      "cell_type": "code",
      "source": [
        "week=[\"Sunday\",\"Monday\",\"Tuesday\", \"Wednesday\", \"Thursday\", \"Friday\", \"Saturday\"]\n",
        "\n",
        "for x in week:\n",
        "  if x==\"Thursday\":\n",
        "    break\n",
        "print(x) #indention differences"
      ],
      "metadata": {
        "colab": {
          "base_uri": "https://localhost:8080/"
        },
        "id": "Jb-B8Y3MekPj",
        "outputId": "3c6099eb-7245-4e7c-c52c-56102dc8fbd2"
      },
      "execution_count": 70,
      "outputs": [
        {
          "output_type": "stream",
          "name": "stdout",
          "text": [
            "Thursday\n"
          ]
        }
      ]
    },
    {
      "cell_type": "code",
      "source": [
        "for x in \"week\":\n",
        "  print(x)"
      ],
      "metadata": {
        "colab": {
          "base_uri": "https://localhost:8080/"
        },
        "id": "lPW9PMy3tity",
        "outputId": "57fca76a-1fad-4f89-b041-3714f4f49c45"
      },
      "execution_count": 5,
      "outputs": [
        {
          "output_type": "stream",
          "name": "stdout",
          "text": [
            "w\n",
            "e\n",
            "e\n",
            "k\n"
          ]
        }
      ]
    },
    {
      "cell_type": "markdown",
      "source": [
        "While loop\n",
        "---"
      ],
      "metadata": {
        "id": "EEKy5l_2e-gW"
      }
    },
    {
      "cell_type": "code",
      "source": [
        "i= 1\n",
        "while i<6:\n",
        "  print(i)\n",
        "  i+=1      # i = i+1 "
      ],
      "metadata": {
        "colab": {
          "base_uri": "https://localhost:8080/"
        },
        "id": "Grn-dEode_09",
        "outputId": "dcbf7dc9-bbf9-4b57-c01a-c2a5e17723a7"
      },
      "execution_count": 72,
      "outputs": [
        {
          "output_type": "stream",
          "name": "stdout",
          "text": [
            "1\n",
            "2\n",
            "3\n",
            "4\n",
            "5\n"
          ]
        }
      ]
    },
    {
      "cell_type": "markdown",
      "source": [
        "*Application 4*\n",
        "Create program that displays number 1-4 using while loop\n",
        "\n",
        "---\n",
        "\n",
        "\n"
      ],
      "metadata": {
        "id": "svVVGdV0farO"
      }
    },
    {
      "cell_type": "code",
      "source": [
        "d = 1\n",
        "\n",
        "while d<5:\n",
        "  print(d)\n",
        "  d+=1"
      ],
      "metadata": {
        "colab": {
          "base_uri": "https://localhost:8080/"
        },
        "id": "vYrSitXrfi6X",
        "outputId": "5e7f5110-6189-42a4-8c1c-562e2da9d3b2"
      },
      "execution_count": 74,
      "outputs": [
        {
          "output_type": "stream",
          "name": "stdout",
          "text": [
            "1\n",
            "2\n",
            "3\n",
            "4\n"
          ]
        }
      ]
    },
    {
      "cell_type": "markdown",
      "source": [
        "*Application 5*\n",
        "Create program that displays number 4 using while loop"
      ],
      "metadata": {
        "id": "UEiiq5KngT69"
      }
    },
    {
      "cell_type": "code",
      "source": [
        "d = 1\n",
        "\n",
        "while d<5:\n",
        "  if d==4:\n",
        "    print(d)\n",
        "  d+=1"
      ],
      "metadata": {
        "colab": {
          "base_uri": "https://localhost:8080/"
        },
        "id": "WWUi6Ip3hvtw",
        "outputId": "75797f6d-05d3-491d-f7d3-8ca53d8064df"
      },
      "execution_count": 87,
      "outputs": [
        {
          "output_type": "stream",
          "name": "stdout",
          "text": [
            "4\n"
          ]
        }
      ]
    }
  ]
}