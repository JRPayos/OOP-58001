{
  "nbformat": 4,
  "nbformat_minor": 0,
  "metadata": {
    "colab": {
      "name": "OOP in Python.ipynb",
      "provenance": [],
      "collapsed_sections": [],
      "toc_visible": true,
      "authorship_tag": "ABX9TyOyF04WmU8X6Di4iHOHxbGj",
      "include_colab_link": true
    },
    "kernelspec": {
      "name": "python3",
      "display_name": "Python 3"
    },
    "language_info": {
      "name": "python"
    }
  },
  "cells": [
    {
      "cell_type": "markdown",
      "metadata": {
        "id": "view-in-github",
        "colab_type": "text"
      },
      "source": [
        "<a href=\"https://colab.research.google.com/github/JohnRey-P/OOP-58001/blob/main/OOP_in_Python.ipynb\" target=\"_parent\"><img src=\"https://colab.research.google.com/assets/colab-badge.svg\" alt=\"Open In Colab\"/></a>"
      ]
    },
    {
      "cell_type": "markdown",
      "source": [
        "#OOP in Python"
      ],
      "metadata": {
        "id": "nIb0Vv-6Yp4q"
      }
    },
    {
      "cell_type": "markdown",
      "source": [
        "Class\n",
        "---"
      ],
      "metadata": {
        "id": "eDulbVZdYnsE"
      }
    },
    {
      "cell_type": "code",
      "execution_count": null,
      "metadata": {
        "id": "IEVIjFZJYftf"
      },
      "outputs": [],
      "source": [
        "class Class:\n",
        "  pass"
      ]
    },
    {
      "cell_type": "code",
      "source": [
        "class Class:\n",
        "  x=35"
      ],
      "metadata": {
        "id": "CWAZupUtEJer"
      },
      "execution_count": null,
      "outputs": []
    },
    {
      "cell_type": "code",
      "source": [
        "class MotorBike():\n",
        "  def __init__(self,brand,color):\n",
        "    self.brand = brand\n",
        "    self.color = color\n",
        "\n",
        "  def description(self):\n",
        "    return self.brand, self.color\n",
        "\n",
        "  def display(self):\n",
        "    print(\"The brand and color of the motorbike is\", self.description())\n",
        "\n",
        "ob1 = MotorBike(\"Honda\",\"white\")\n",
        "ob1.display()"
      ],
      "metadata": {
        "colab": {
          "base_uri": "https://localhost:8080/"
        },
        "id": "xlYp_QI5EOH7",
        "outputId": "157506c8-f045-40cb-a564-453da823336b"
      },
      "execution_count": null,
      "outputs": [
        {
          "output_type": "stream",
          "name": "stdout",
          "text": [
            "The brand and color of the motorbike is ('Honda', 'white')\n"
          ]
        }
      ]
    },
    {
      "cell_type": "code",
      "source": [
        "ob1.brand = \"Yamaha\"\n",
        "print(ob1.brand)"
      ],
      "metadata": {
        "colab": {
          "base_uri": "https://localhost:8080/"
        },
        "id": "TwdiJFoQFOgz",
        "outputId": "913eac74-5b39-4b54-85c3-14549c846972"
      },
      "execution_count": null,
      "outputs": [
        {
          "output_type": "stream",
          "name": "stdout",
          "text": [
            "Yamaha\n"
          ]
        }
      ]
    },
    {
      "cell_type": "code",
      "source": [
        "ob1.display()"
      ],
      "metadata": {
        "colab": {
          "base_uri": "https://localhost:8080/"
        },
        "id": "GAqOoypWFZl1",
        "outputId": "53eaee08-c365-46cf-8569-389273cf664a"
      },
      "execution_count": null,
      "outputs": [
        {
          "output_type": "stream",
          "name": "stdout",
          "text": [
            "The brand and color of the motorbike is ('Yamaha', 'white')\n"
          ]
        }
      ]
    },
    {
      "cell_type": "markdown",
      "source": [
        "Deleting object property"
      ],
      "metadata": {
        "id": "agpI6qZ0Fi6m"
      }
    },
    {
      "cell_type": "code",
      "source": [
        "del ob1.color\n",
        "ob1.display()"
      ],
      "metadata": {
        "colab": {
          "base_uri": "https://localhost:8080/",
          "height": 328
        },
        "id": "zS7INkwxFmdL",
        "outputId": "e1bcf571-b852-4fff-c1dc-571a7db74632"
      },
      "execution_count": null,
      "outputs": [
        {
          "output_type": "error",
          "ename": "AttributeError",
          "evalue": "ignored",
          "traceback": [
            "\u001b[0;31m---------------------------------------------------------------------------\u001b[0m",
            "\u001b[0;31mAttributeError\u001b[0m                            Traceback (most recent call last)",
            "\u001b[0;32m<ipython-input-11-560a1cb80957>\u001b[0m in \u001b[0;36m<module>\u001b[0;34m()\u001b[0m\n\u001b[1;32m      1\u001b[0m \u001b[0;32mdel\u001b[0m \u001b[0mob1\u001b[0m\u001b[0;34m.\u001b[0m\u001b[0mcolor\u001b[0m\u001b[0;34m\u001b[0m\u001b[0;34m\u001b[0m\u001b[0m\n\u001b[0;32m----> 2\u001b[0;31m \u001b[0mob1\u001b[0m\u001b[0;34m.\u001b[0m\u001b[0mdisplay\u001b[0m\u001b[0;34m(\u001b[0m\u001b[0;34m)\u001b[0m\u001b[0;34m\u001b[0m\u001b[0;34m\u001b[0m\u001b[0m\n\u001b[0m",
            "\u001b[0;32m<ipython-input-8-f295b68439b8>\u001b[0m in \u001b[0;36mdisplay\u001b[0;34m(self)\u001b[0m\n\u001b[1;32m      8\u001b[0m \u001b[0;34m\u001b[0m\u001b[0m\n\u001b[1;32m      9\u001b[0m   \u001b[0;32mdef\u001b[0m \u001b[0mdisplay\u001b[0m\u001b[0;34m(\u001b[0m\u001b[0mself\u001b[0m\u001b[0;34m)\u001b[0m\u001b[0;34m:\u001b[0m\u001b[0;34m\u001b[0m\u001b[0;34m\u001b[0m\u001b[0m\n\u001b[0;32m---> 10\u001b[0;31m     \u001b[0mprint\u001b[0m\u001b[0;34m(\u001b[0m\u001b[0;34m\"The brand and color of the motorbike is\"\u001b[0m\u001b[0;34m,\u001b[0m \u001b[0mself\u001b[0m\u001b[0;34m.\u001b[0m\u001b[0mdescription\u001b[0m\u001b[0;34m(\u001b[0m\u001b[0;34m)\u001b[0m\u001b[0;34m)\u001b[0m\u001b[0;34m\u001b[0m\u001b[0;34m\u001b[0m\u001b[0m\n\u001b[0m\u001b[1;32m     11\u001b[0m \u001b[0;34m\u001b[0m\u001b[0m\n\u001b[1;32m     12\u001b[0m \u001b[0mob1\u001b[0m \u001b[0;34m=\u001b[0m \u001b[0mMotorBike\u001b[0m\u001b[0;34m(\u001b[0m\u001b[0;34m\"Honda\"\u001b[0m\u001b[0;34m,\u001b[0m\u001b[0;34m\"white\"\u001b[0m\u001b[0;34m)\u001b[0m\u001b[0;34m\u001b[0m\u001b[0;34m\u001b[0m\u001b[0m\n",
            "\u001b[0;32m<ipython-input-8-f295b68439b8>\u001b[0m in \u001b[0;36mdescription\u001b[0;34m(self)\u001b[0m\n\u001b[1;32m      5\u001b[0m \u001b[0;34m\u001b[0m\u001b[0m\n\u001b[1;32m      6\u001b[0m   \u001b[0;32mdef\u001b[0m \u001b[0mdescription\u001b[0m\u001b[0;34m(\u001b[0m\u001b[0mself\u001b[0m\u001b[0;34m)\u001b[0m\u001b[0;34m:\u001b[0m\u001b[0;34m\u001b[0m\u001b[0;34m\u001b[0m\u001b[0m\n\u001b[0;32m----> 7\u001b[0;31m     \u001b[0;32mreturn\u001b[0m \u001b[0mself\u001b[0m\u001b[0;34m.\u001b[0m\u001b[0mbrand\u001b[0m\u001b[0;34m,\u001b[0m \u001b[0mself\u001b[0m\u001b[0;34m.\u001b[0m\u001b[0mcolor\u001b[0m\u001b[0;34m\u001b[0m\u001b[0;34m\u001b[0m\u001b[0m\n\u001b[0m\u001b[1;32m      8\u001b[0m \u001b[0;34m\u001b[0m\u001b[0m\n\u001b[1;32m      9\u001b[0m   \u001b[0;32mdef\u001b[0m \u001b[0mdisplay\u001b[0m\u001b[0;34m(\u001b[0m\u001b[0mself\u001b[0m\u001b[0;34m)\u001b[0m\u001b[0;34m:\u001b[0m\u001b[0;34m\u001b[0m\u001b[0;34m\u001b[0m\u001b[0m\n",
            "\u001b[0;31mAttributeError\u001b[0m: 'MotorBike' object has no attribute 'color'"
          ]
        }
      ]
    },
    {
      "cell_type": "markdown",
      "source": [
        "error since object.color has been deleted"
      ],
      "metadata": {
        "id": "7a96-JwxF4PE"
      }
    },
    {
      "cell_type": "code",
      "source": [
        "ob2 = MotorBike(\"Ducati\", \"orange\")\n",
        "ob2.display()"
      ],
      "metadata": {
        "colab": {
          "base_uri": "https://localhost:8080/"
        },
        "id": "fQYb1PqYF40y",
        "outputId": "b9064ea4-5554-4503-d1cb-1ab80ad04b8f"
      },
      "execution_count": null,
      "outputs": [
        {
          "output_type": "stream",
          "name": "stdout",
          "text": [
            "The brand and color of the motorbike is ('Ducati', 'orange')\n"
          ]
        }
      ]
    },
    {
      "cell_type": "markdown",
      "source": [
        "Application 1\n",
        "---\n",
        "\n",
        "\n",
        "---\n",
        "\n",
        "\n",
        "Write a python program that can compute the area and perimeter of a rectangle. use rectangle as Class name and length and width as an attributes."
      ],
      "metadata": {
        "id": "oKxnVAJDG0a7"
      }
    },
    {
      "cell_type": "code",
      "source": [
        "class Rectangle():\n",
        "  def __init__(self, length, width):\n",
        "    self.length = length\n",
        "    self.width = width\n",
        "\n",
        "  def Area(self):\n",
        "    return self.length*self.width\n",
        "\n",
        "  def Perimeter(self):\n",
        "    return 2*(self.length+self.width)\n",
        "\n",
        "  def display(self):\n",
        "    print(\"The Area of the Rectangle is\", self.Area())\n",
        "    print(\"The Perimeter of the Rectangle is\", self.Perimeter())\n",
        "\n",
        "pol = Rectangle(6,3.5)\n",
        "pol.display()"
      ],
      "metadata": {
        "colab": {
          "base_uri": "https://localhost:8080/"
        },
        "id": "UbxbjKFCHIDb",
        "outputId": "ec0dd9f3-cff0-4c59-9c6d-a647ef3fca44"
      },
      "execution_count": null,
      "outputs": [
        {
          "output_type": "stream",
          "name": "stdout",
          "text": [
            "The Area of the Rectangle is 21.0\n",
            "The Perimeter of the Rectangle is 19.0\n"
          ]
        }
      ]
    },
    {
      "cell_type": "markdown",
      "source": [
        "Application 2 \n",
        "---\n",
        "---\n",
        "\n",
        "\n",
        "Write a python program to display a class name OOP_58001 with your student no. and fullname (Surname, First Name) as attributes"
      ],
      "metadata": {
        "id": "JFWYB9lsIiNj"
      }
    },
    {
      "cell_type": "code",
      "source": [
        "class OOP_58001():\n",
        "  def __init__(self,stuNum,sName,fName):\n",
        "    self.stuNum = stuNum\n",
        "    self.sName = sName\n",
        "    self.fName = fName\n",
        "\n",
        "  def student(self):\n",
        "    return self.sName + self.fName + self.stuNum\n",
        "\n",
        "  def display(self):\n",
        "    print(\"My name is\", self.student())\n",
        "\n",
        "student = OOP_58001(\" 202150620\",\"Payos, \",\"John Rey\")\n",
        "student.display()"
      ],
      "metadata": {
        "colab": {
          "base_uri": "https://localhost:8080/"
        },
        "id": "JWGcKyTzKqo9",
        "outputId": "c5625143-9ee5-4f20-c8a2-de1bc9f8c222"
      },
      "execution_count": null,
      "outputs": [
        {
          "output_type": "stream",
          "name": "stdout",
          "text": [
            "My name is Payos, John Rey 202150620\n"
          ]
        }
      ]
    },
    {
      "cell_type": "code",
      "source": [
        "#Modified with input program\n",
        "\n",
        "class OOP_58001():\n",
        "  def __init__(self,stuNum,sName,fName):\n",
        "    self.stuNum = stuNum\n",
        "    self.sName = sName\n",
        "    self.fName = fName\n",
        "\n",
        "  def student(self):\n",
        "    return self.sName + \", \" + self.fName + \" #\" + self.stuNum\n",
        "\n",
        "  def display(self):\n",
        "    print(\"My name is\", self.student())\n",
        "\n",
        "student = OOP_58001(input(\"Student Number: \"),input(\"Last Name: \"), input(\"First Name: \"))\n",
        "student.display()"
      ],
      "metadata": {
        "colab": {
          "base_uri": "https://localhost:8080/"
        },
        "outputId": "4596fd66-9207-46a5-f536-2826fdccae79",
        "id": "QFsLcoyRNbOF"
      },
      "execution_count": 28,
      "outputs": [
        {
          "output_type": "stream",
          "name": "stdout",
          "text": [
            "Student Number: 202150620\n",
            "Last Name: Carlsen\n",
            "First Name: Magnus\n",
            "My name is Carlsen, Magnus #202150620\n"
          ]
        }
      ]
    }
  ]
}