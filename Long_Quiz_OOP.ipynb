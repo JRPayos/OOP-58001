{
  "nbformat": 4,
  "nbformat_minor": 0,
  "metadata": {
    "colab": {
      "name": "Long Quiz OOP.ipynb",
      "provenance": [],
      "collapsed_sections": [],
      "authorship_tag": "ABX9TyPC+FX1NCgYpH51d0x1yDbF",
      "include_colab_link": true
    },
    "kernelspec": {
      "name": "python3",
      "display_name": "Python 3"
    },
    "language_info": {
      "name": "python"
    }
  },
  "cells": [
    {
      "cell_type": "markdown",
      "metadata": {
        "id": "view-in-github",
        "colab_type": "text"
      },
      "source": [
        "<a href=\"https://colab.research.google.com/github/JohnRey-P/OOP-58001/blob/main/Long_Quiz_OOP.ipynb\" target=\"_parent\"><img src=\"https://colab.research.google.com/assets/colab-badge.svg\" alt=\"Open In Colab\"/></a>"
      ]
    },
    {
      "cell_type": "markdown",
      "source": [
        "# Long Quiz OOP"
      ],
      "metadata": {
        "id": "7w_nFj8Fazws"
      }
    },
    {
      "cell_type": "markdown",
      "source": [
        "- Refer to the laboratory activity format in Week 1 folder.\n",
        "- Write a Python program that asks the user to enter the radius of a circle and solve its area and perimeter.\n",
        "- Create a class name Circle allowing you to build a circle with radius and pi attributes.\n",
        "- Create a method Display() the perimeter and area using an instantiation of a class.\n",
        "- Create a Perimeter() method to calculate the perimeter of the circle and an Area() method to calculate the area of ​​the circle."
      ],
      "metadata": {
        "id": "irw9Wo4prNy1"
      }
    },
    {
      "cell_type": "code",
      "execution_count": 19,
      "metadata": {
        "id": "iuwfu06PawqL",
        "colab": {
          "base_uri": "https://localhost:8080/"
        },
        "outputId": "4fb1386e-1fcc-4dd5-ef55-477654b4ed01"
      },
      "outputs": [
        {
          "output_type": "stream",
          "name": "stdout",
          "text": [
            "Enter the radius of the Circle: 6.98\n",
            "\n",
            "The Perimeter of the Circle is 43.8344\n",
            "( 2 )( 3.14 )( 6.98 ) = 43.8344\n",
            "\n",
            "The Area of the Circle is 152.98205600000003\n",
            "( 3.14 )( 6.98 )^2 = 152.98205600000003\n"
          ]
        }
      ],
      "source": [
        "# Area and Perimeter of Circle Calculator\n",
        "\n",
        "class Circle():\n",
        "  def __init__(self, radius):\n",
        "    self.radius = float(radius) #float more flexible than int\n",
        "\n",
        "  def Perimeter(self):\n",
        "    return (2*pi*self.radius)\n",
        "\n",
        "  def Area(self):\n",
        "    return (pi*self.radius**2)\n",
        "\n",
        "  def Display(self):\n",
        "    print(\"\\nThe Perimeter of the Circle is\", self.Perimeter())\n",
        "    print(\"(\", 2, \")(\",pi, \")(\", self.radius, \") =\", self.Perimeter())\n",
        "    print(\"\\nThe Area of the Circle is\", self.Area())\n",
        "    print(\"(\",pi, \")(\", self.radius,\")^2 =\", self.Area())\n",
        "\n",
        "#Output\n",
        "pi = 3.14\n",
        "circle = Circle(input(\"Enter the radius of the Circle: \"))\n",
        "circle.Display()\n"
      ]
    }
  ]
}